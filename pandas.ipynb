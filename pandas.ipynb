{
 "cells": [
  {
   "cell_type": "markdown",
   "metadata": {},
   "source": [
    "# Pandas"
   ]
  },
  {
   "cell_type": "code",
   "execution_count": 1,
   "metadata": {},
   "outputs": [],
   "source": [
    "# Import pandas and numpy\n",
    "\n",
    "import pandas as pd\n",
    "import numpy as np"
   ]
  },
  {
   "cell_type": "code",
   "execution_count": 2,
   "metadata": {},
   "outputs": [],
   "source": [
    "# create dataframe\n",
    "df = pd.DataFrame(np.arange(0,20).reshape(5,4),index=['row 1', 'row 2', 'row 3', 'row 4', 'row 5'],columns=['col 1', 'col 2', 'col 3', 'col 4'])"
   ]
  },
  {
   "cell_type": "code",
   "execution_count": 3,
   "metadata": {},
   "outputs": [
    {
     "data": {
      "text/html": [
       "<div>\n",
       "<style scoped>\n",
       "    .dataframe tbody tr th:only-of-type {\n",
       "        vertical-align: middle;\n",
       "    }\n",
       "\n",
       "    .dataframe tbody tr th {\n",
       "        vertical-align: top;\n",
       "    }\n",
       "\n",
       "    .dataframe thead th {\n",
       "        text-align: right;\n",
       "    }\n",
       "</style>\n",
       "<table border=\"1\" class=\"dataframe\">\n",
       "  <thead>\n",
       "    <tr style=\"text-align: right;\">\n",
       "      <th></th>\n",
       "      <th>col 1</th>\n",
       "      <th>col 2</th>\n",
       "      <th>col 3</th>\n",
       "      <th>col 4</th>\n",
       "    </tr>\n",
       "  </thead>\n",
       "  <tbody>\n",
       "    <tr>\n",
       "      <td>row 1</td>\n",
       "      <td>0</td>\n",
       "      <td>1</td>\n",
       "      <td>2</td>\n",
       "      <td>3</td>\n",
       "    </tr>\n",
       "    <tr>\n",
       "      <td>row 2</td>\n",
       "      <td>4</td>\n",
       "      <td>5</td>\n",
       "      <td>6</td>\n",
       "      <td>7</td>\n",
       "    </tr>\n",
       "    <tr>\n",
       "      <td>row 3</td>\n",
       "      <td>8</td>\n",
       "      <td>9</td>\n",
       "      <td>10</td>\n",
       "      <td>11</td>\n",
       "    </tr>\n",
       "    <tr>\n",
       "      <td>row 4</td>\n",
       "      <td>12</td>\n",
       "      <td>13</td>\n",
       "      <td>14</td>\n",
       "      <td>15</td>\n",
       "    </tr>\n",
       "    <tr>\n",
       "      <td>row 5</td>\n",
       "      <td>16</td>\n",
       "      <td>17</td>\n",
       "      <td>18</td>\n",
       "      <td>19</td>\n",
       "    </tr>\n",
       "  </tbody>\n",
       "</table>\n",
       "</div>"
      ],
      "text/plain": [
       "       col 1  col 2  col 3  col 4\n",
       "row 1      0      1      2      3\n",
       "row 2      4      5      6      7\n",
       "row 3      8      9     10     11\n",
       "row 4     12     13     14     15\n",
       "row 5     16     17     18     19"
      ]
     },
     "execution_count": 3,
     "metadata": {},
     "output_type": "execute_result"
    }
   ],
   "source": [
    "df.head()"
   ]
  },
  {
   "cell_type": "code",
   "execution_count": 4,
   "metadata": {},
   "outputs": [],
   "source": [
    "df.to_csv('test.csv')"
   ]
  },
  {
   "cell_type": "code",
   "execution_count": 5,
   "metadata": {},
   "outputs": [
    {
     "data": {
      "text/plain": [
       "col 1     8\n",
       "col 2     9\n",
       "col 3    10\n",
       "col 4    11\n",
       "Name: row 3, dtype: int32"
      ]
     },
     "execution_count": 5,
     "metadata": {},
     "output_type": "execute_result"
    }
   ],
   "source": [
    "## Accessing the elements\n",
    "# 1. loc   2. iloc\n",
    "\n",
    "df.loc['row 3']"
   ]
  },
  {
   "cell_type": "code",
   "execution_count": 6,
   "metadata": {},
   "outputs": [
    {
     "data": {
      "text/plain": [
       "pandas.core.series.Series"
      ]
     },
     "execution_count": 6,
     "metadata": {},
     "output_type": "execute_result"
    }
   ],
   "source": [
    "# this is series\n",
    "type(df.loc['row 3'])"
   ]
  },
  {
   "cell_type": "code",
   "execution_count": 7,
   "metadata": {},
   "outputs": [
    {
     "data": {
      "text/html": [
       "<div>\n",
       "<style scoped>\n",
       "    .dataframe tbody tr th:only-of-type {\n",
       "        vertical-align: middle;\n",
       "    }\n",
       "\n",
       "    .dataframe tbody tr th {\n",
       "        vertical-align: top;\n",
       "    }\n",
       "\n",
       "    .dataframe thead th {\n",
       "        text-align: right;\n",
       "    }\n",
       "</style>\n",
       "<table border=\"1\" class=\"dataframe\">\n",
       "  <thead>\n",
       "    <tr style=\"text-align: right;\">\n",
       "      <th></th>\n",
       "      <th>col 1</th>\n",
       "      <th>col 2</th>\n",
       "      <th>col 3</th>\n",
       "      <th>col 4</th>\n",
       "    </tr>\n",
       "  </thead>\n",
       "  <tbody>\n",
       "    <tr>\n",
       "      <td>row 1</td>\n",
       "      <td>0</td>\n",
       "      <td>1</td>\n",
       "      <td>2</td>\n",
       "      <td>3</td>\n",
       "    </tr>\n",
       "    <tr>\n",
       "      <td>row 2</td>\n",
       "      <td>4</td>\n",
       "      <td>5</td>\n",
       "      <td>6</td>\n",
       "      <td>7</td>\n",
       "    </tr>\n",
       "    <tr>\n",
       "      <td>row 3</td>\n",
       "      <td>8</td>\n",
       "      <td>9</td>\n",
       "      <td>10</td>\n",
       "      <td>11</td>\n",
       "    </tr>\n",
       "    <tr>\n",
       "      <td>row 4</td>\n",
       "      <td>12</td>\n",
       "      <td>13</td>\n",
       "      <td>14</td>\n",
       "      <td>15</td>\n",
       "    </tr>\n",
       "    <tr>\n",
       "      <td>row 5</td>\n",
       "      <td>16</td>\n",
       "      <td>17</td>\n",
       "      <td>18</td>\n",
       "      <td>19</td>\n",
       "    </tr>\n",
       "  </tbody>\n",
       "</table>\n",
       "</div>"
      ],
      "text/plain": [
       "       col 1  col 2  col 3  col 4\n",
       "row 1      0      1      2      3\n",
       "row 2      4      5      6      7\n",
       "row 3      8      9     10     11\n",
       "row 4     12     13     14     15\n",
       "row 5     16     17     18     19"
      ]
     },
     "execution_count": 7,
     "metadata": {},
     "output_type": "execute_result"
    }
   ],
   "source": [
    "df.iloc[:,:]"
   ]
  },
  {
   "cell_type": "code",
   "execution_count": 8,
   "metadata": {},
   "outputs": [
    {
     "data": {
      "text/html": [
       "<div>\n",
       "<style scoped>\n",
       "    .dataframe tbody tr th:only-of-type {\n",
       "        vertical-align: middle;\n",
       "    }\n",
       "\n",
       "    .dataframe tbody tr th {\n",
       "        vertical-align: top;\n",
       "    }\n",
       "\n",
       "    .dataframe thead th {\n",
       "        text-align: right;\n",
       "    }\n",
       "</style>\n",
       "<table border=\"1\" class=\"dataframe\">\n",
       "  <thead>\n",
       "    <tr style=\"text-align: right;\">\n",
       "      <th></th>\n",
       "      <th>col 1</th>\n",
       "      <th>col 2</th>\n",
       "    </tr>\n",
       "  </thead>\n",
       "  <tbody>\n",
       "    <tr>\n",
       "      <td>row 1</td>\n",
       "      <td>0</td>\n",
       "      <td>1</td>\n",
       "    </tr>\n",
       "    <tr>\n",
       "      <td>row 2</td>\n",
       "      <td>4</td>\n",
       "      <td>5</td>\n",
       "    </tr>\n",
       "  </tbody>\n",
       "</table>\n",
       "</div>"
      ],
      "text/plain": [
       "       col 1  col 2\n",
       "row 1      0      1\n",
       "row 2      4      5"
      ]
     },
     "execution_count": 8,
     "metadata": {},
     "output_type": "execute_result"
    }
   ],
   "source": [
    "df.iloc[0:2,0:2]"
   ]
  },
  {
   "cell_type": "code",
   "execution_count": 9,
   "metadata": {},
   "outputs": [
    {
     "data": {
      "text/plain": [
       "pandas.core.series.Series"
      ]
     },
     "execution_count": 9,
     "metadata": {},
     "output_type": "execute_result"
    }
   ],
   "source": [
    "type(df.iloc[0:1,0])"
   ]
  },
  {
   "cell_type": "code",
   "execution_count": 10,
   "metadata": {},
   "outputs": [
    {
     "data": {
      "text/plain": [
       "array([[ 1,  2,  3],\n",
       "       [ 5,  6,  7],\n",
       "       [ 9, 10, 11],\n",
       "       [13, 14, 15],\n",
       "       [17, 18, 19]])"
      ]
     },
     "execution_count": 10,
     "metadata": {},
     "output_type": "execute_result"
    }
   ],
   "source": [
    "# dataframe to array\n",
    "df.iloc[:,1:].values"
   ]
  },
  {
   "cell_type": "code",
   "execution_count": 11,
   "metadata": {},
   "outputs": [
    {
     "data": {
      "text/plain": [
       "(5, 3)"
      ]
     },
     "execution_count": 11,
     "metadata": {},
     "output_type": "execute_result"
    }
   ],
   "source": [
    "# dataframe to array\n",
    "df.iloc[:,1:].values.shape"
   ]
  },
  {
   "cell_type": "code",
   "execution_count": 12,
   "metadata": {},
   "outputs": [
    {
     "data": {
      "text/plain": [
       "col 1    0\n",
       "col 2    0\n",
       "col 3    0\n",
       "col 4    0\n",
       "dtype: int64"
      ]
     },
     "execution_count": 12,
     "metadata": {},
     "output_type": "execute_result"
    }
   ],
   "source": [
    "df.isnull().sum()"
   ]
  },
  {
   "cell_type": "code",
   "execution_count": 13,
   "metadata": {},
   "outputs": [
    {
     "data": {
      "text/plain": [
       "12    1\n",
       "4     1\n",
       "16    1\n",
       "8     1\n",
       "0     1\n",
       "Name: col 1, dtype: int64"
      ]
     },
     "execution_count": 13,
     "metadata": {},
     "output_type": "execute_result"
    }
   ],
   "source": [
    "df['col 1'].value_counts()"
   ]
  },
  {
   "cell_type": "code",
   "execution_count": 14,
   "metadata": {},
   "outputs": [
    {
     "data": {
      "text/plain": [
       "array([ 0,  4,  8, 12, 16], dtype=int64)"
      ]
     },
     "execution_count": 14,
     "metadata": {},
     "output_type": "execute_result"
    }
   ],
   "source": [
    "df['col 1'].unique()"
   ]
  },
  {
   "cell_type": "code",
   "execution_count": 15,
   "metadata": {},
   "outputs": [
    {
     "data": {
      "text/html": [
       "<div>\n",
       "<style scoped>\n",
       "    .dataframe tbody tr th:only-of-type {\n",
       "        vertical-align: middle;\n",
       "    }\n",
       "\n",
       "    .dataframe tbody tr th {\n",
       "        vertical-align: top;\n",
       "    }\n",
       "\n",
       "    .dataframe thead th {\n",
       "        text-align: right;\n",
       "    }\n",
       "</style>\n",
       "<table border=\"1\" class=\"dataframe\">\n",
       "  <thead>\n",
       "    <tr style=\"text-align: right;\">\n",
       "      <th></th>\n",
       "      <th>col 2</th>\n",
       "      <th>col 1</th>\n",
       "    </tr>\n",
       "  </thead>\n",
       "  <tbody>\n",
       "    <tr>\n",
       "      <td>row 1</td>\n",
       "      <td>1</td>\n",
       "      <td>0</td>\n",
       "    </tr>\n",
       "    <tr>\n",
       "      <td>row 2</td>\n",
       "      <td>5</td>\n",
       "      <td>4</td>\n",
       "    </tr>\n",
       "    <tr>\n",
       "      <td>row 3</td>\n",
       "      <td>9</td>\n",
       "      <td>8</td>\n",
       "    </tr>\n",
       "    <tr>\n",
       "      <td>row 4</td>\n",
       "      <td>13</td>\n",
       "      <td>12</td>\n",
       "    </tr>\n",
       "    <tr>\n",
       "      <td>row 5</td>\n",
       "      <td>17</td>\n",
       "      <td>16</td>\n",
       "    </tr>\n",
       "  </tbody>\n",
       "</table>\n",
       "</div>"
      ],
      "text/plain": [
       "       col 2  col 1\n",
       "row 1      1      0\n",
       "row 2      5      4\n",
       "row 3      9      8\n",
       "row 4     13     12\n",
       "row 5     17     16"
      ]
     },
     "execution_count": 15,
     "metadata": {},
     "output_type": "execute_result"
    }
   ],
   "source": [
    "df[['col 2','col 1']]"
   ]
  },
  {
   "cell_type": "code",
   "execution_count": 16,
   "metadata": {},
   "outputs": [],
   "source": [
    "df = pd.read_csv('mercedesbenz.csv')"
   ]
  },
  {
   "cell_type": "code",
   "execution_count": 17,
   "metadata": {},
   "outputs": [
    {
     "data": {
      "text/html": [
       "<div>\n",
       "<style scoped>\n",
       "    .dataframe tbody tr th:only-of-type {\n",
       "        vertical-align: middle;\n",
       "    }\n",
       "\n",
       "    .dataframe tbody tr th {\n",
       "        vertical-align: top;\n",
       "    }\n",
       "\n",
       "    .dataframe thead th {\n",
       "        text-align: right;\n",
       "    }\n",
       "</style>\n",
       "<table border=\"1\" class=\"dataframe\">\n",
       "  <thead>\n",
       "    <tr style=\"text-align: right;\">\n",
       "      <th></th>\n",
       "      <th>ID</th>\n",
       "      <th>y</th>\n",
       "      <th>X0</th>\n",
       "      <th>X1</th>\n",
       "      <th>X2</th>\n",
       "      <th>X3</th>\n",
       "      <th>X4</th>\n",
       "      <th>X5</th>\n",
       "      <th>X6</th>\n",
       "      <th>X8</th>\n",
       "      <th>...</th>\n",
       "      <th>X375</th>\n",
       "      <th>X376</th>\n",
       "      <th>X377</th>\n",
       "      <th>X378</th>\n",
       "      <th>X379</th>\n",
       "      <th>X380</th>\n",
       "      <th>X382</th>\n",
       "      <th>X383</th>\n",
       "      <th>X384</th>\n",
       "      <th>X385</th>\n",
       "    </tr>\n",
       "  </thead>\n",
       "  <tbody>\n",
       "    <tr>\n",
       "      <td>0</td>\n",
       "      <td>0</td>\n",
       "      <td>130.81</td>\n",
       "      <td>k</td>\n",
       "      <td>v</td>\n",
       "      <td>at</td>\n",
       "      <td>a</td>\n",
       "      <td>d</td>\n",
       "      <td>u</td>\n",
       "      <td>j</td>\n",
       "      <td>o</td>\n",
       "      <td>...</td>\n",
       "      <td>0</td>\n",
       "      <td>0</td>\n",
       "      <td>1</td>\n",
       "      <td>0</td>\n",
       "      <td>0</td>\n",
       "      <td>0</td>\n",
       "      <td>0</td>\n",
       "      <td>0</td>\n",
       "      <td>0</td>\n",
       "      <td>0</td>\n",
       "    </tr>\n",
       "    <tr>\n",
       "      <td>1</td>\n",
       "      <td>6</td>\n",
       "      <td>88.53</td>\n",
       "      <td>k</td>\n",
       "      <td>t</td>\n",
       "      <td>av</td>\n",
       "      <td>e</td>\n",
       "      <td>d</td>\n",
       "      <td>y</td>\n",
       "      <td>l</td>\n",
       "      <td>o</td>\n",
       "      <td>...</td>\n",
       "      <td>1</td>\n",
       "      <td>0</td>\n",
       "      <td>0</td>\n",
       "      <td>0</td>\n",
       "      <td>0</td>\n",
       "      <td>0</td>\n",
       "      <td>0</td>\n",
       "      <td>0</td>\n",
       "      <td>0</td>\n",
       "      <td>0</td>\n",
       "    </tr>\n",
       "    <tr>\n",
       "      <td>2</td>\n",
       "      <td>7</td>\n",
       "      <td>76.26</td>\n",
       "      <td>az</td>\n",
       "      <td>w</td>\n",
       "      <td>n</td>\n",
       "      <td>c</td>\n",
       "      <td>d</td>\n",
       "      <td>x</td>\n",
       "      <td>j</td>\n",
       "      <td>x</td>\n",
       "      <td>...</td>\n",
       "      <td>0</td>\n",
       "      <td>0</td>\n",
       "      <td>0</td>\n",
       "      <td>0</td>\n",
       "      <td>0</td>\n",
       "      <td>0</td>\n",
       "      <td>1</td>\n",
       "      <td>0</td>\n",
       "      <td>0</td>\n",
       "      <td>0</td>\n",
       "    </tr>\n",
       "    <tr>\n",
       "      <td>3</td>\n",
       "      <td>9</td>\n",
       "      <td>80.62</td>\n",
       "      <td>az</td>\n",
       "      <td>t</td>\n",
       "      <td>n</td>\n",
       "      <td>f</td>\n",
       "      <td>d</td>\n",
       "      <td>x</td>\n",
       "      <td>l</td>\n",
       "      <td>e</td>\n",
       "      <td>...</td>\n",
       "      <td>0</td>\n",
       "      <td>0</td>\n",
       "      <td>0</td>\n",
       "      <td>0</td>\n",
       "      <td>0</td>\n",
       "      <td>0</td>\n",
       "      <td>0</td>\n",
       "      <td>0</td>\n",
       "      <td>0</td>\n",
       "      <td>0</td>\n",
       "    </tr>\n",
       "    <tr>\n",
       "      <td>4</td>\n",
       "      <td>13</td>\n",
       "      <td>78.02</td>\n",
       "      <td>az</td>\n",
       "      <td>v</td>\n",
       "      <td>n</td>\n",
       "      <td>f</td>\n",
       "      <td>d</td>\n",
       "      <td>h</td>\n",
       "      <td>d</td>\n",
       "      <td>n</td>\n",
       "      <td>...</td>\n",
       "      <td>0</td>\n",
       "      <td>0</td>\n",
       "      <td>0</td>\n",
       "      <td>0</td>\n",
       "      <td>0</td>\n",
       "      <td>0</td>\n",
       "      <td>0</td>\n",
       "      <td>0</td>\n",
       "      <td>0</td>\n",
       "      <td>0</td>\n",
       "    </tr>\n",
       "  </tbody>\n",
       "</table>\n",
       "<p>5 rows × 378 columns</p>\n",
       "</div>"
      ],
      "text/plain": [
       "   ID       y  X0 X1  X2 X3 X4 X5 X6 X8  ...  X375  X376  X377  X378  X379  \\\n",
       "0   0  130.81   k  v  at  a  d  u  j  o  ...     0     0     1     0     0   \n",
       "1   6   88.53   k  t  av  e  d  y  l  o  ...     1     0     0     0     0   \n",
       "2   7   76.26  az  w   n  c  d  x  j  x  ...     0     0     0     0     0   \n",
       "3   9   80.62  az  t   n  f  d  x  l  e  ...     0     0     0     0     0   \n",
       "4  13   78.02  az  v   n  f  d  h  d  n  ...     0     0     0     0     0   \n",
       "\n",
       "   X380  X382  X383  X384  X385  \n",
       "0     0     0     0     0     0  \n",
       "1     0     0     0     0     0  \n",
       "2     0     1     0     0     0  \n",
       "3     0     0     0     0     0  \n",
       "4     0     0     0     0     0  \n",
       "\n",
       "[5 rows x 378 columns]"
      ]
     },
     "execution_count": 17,
     "metadata": {},
     "output_type": "execute_result"
    }
   ],
   "source": [
    "df.head()"
   ]
  },
  {
   "cell_type": "code",
   "execution_count": 18,
   "metadata": {},
   "outputs": [
    {
     "name": "stdout",
     "output_type": "stream",
     "text": [
      "<class 'pandas.core.frame.DataFrame'>\n",
      "RangeIndex: 4209 entries, 0 to 4208\n",
      "Columns: 378 entries, ID to X385\n",
      "dtypes: float64(1), int64(369), object(8)\n",
      "memory usage: 12.1+ MB\n"
     ]
    }
   ],
   "source": [
    "df.info()"
   ]
  },
  {
   "cell_type": "code",
   "execution_count": 19,
   "metadata": {},
   "outputs": [
    {
     "data": {
      "text/html": [
       "<div>\n",
       "<style scoped>\n",
       "    .dataframe tbody tr th:only-of-type {\n",
       "        vertical-align: middle;\n",
       "    }\n",
       "\n",
       "    .dataframe tbody tr th {\n",
       "        vertical-align: top;\n",
       "    }\n",
       "\n",
       "    .dataframe thead th {\n",
       "        text-align: right;\n",
       "    }\n",
       "</style>\n",
       "<table border=\"1\" class=\"dataframe\">\n",
       "  <thead>\n",
       "    <tr style=\"text-align: right;\">\n",
       "      <th></th>\n",
       "      <th>ID</th>\n",
       "      <th>y</th>\n",
       "      <th>X10</th>\n",
       "      <th>X11</th>\n",
       "      <th>X12</th>\n",
       "      <th>X13</th>\n",
       "      <th>X14</th>\n",
       "      <th>X15</th>\n",
       "      <th>X16</th>\n",
       "      <th>X17</th>\n",
       "      <th>...</th>\n",
       "      <th>X375</th>\n",
       "      <th>X376</th>\n",
       "      <th>X377</th>\n",
       "      <th>X378</th>\n",
       "      <th>X379</th>\n",
       "      <th>X380</th>\n",
       "      <th>X382</th>\n",
       "      <th>X383</th>\n",
       "      <th>X384</th>\n",
       "      <th>X385</th>\n",
       "    </tr>\n",
       "  </thead>\n",
       "  <tbody>\n",
       "    <tr>\n",
       "      <td>count</td>\n",
       "      <td>4209.000000</td>\n",
       "      <td>4209.000000</td>\n",
       "      <td>4209.000000</td>\n",
       "      <td>4209.0</td>\n",
       "      <td>4209.000000</td>\n",
       "      <td>4209.000000</td>\n",
       "      <td>4209.000000</td>\n",
       "      <td>4209.000000</td>\n",
       "      <td>4209.000000</td>\n",
       "      <td>4209.000000</td>\n",
       "      <td>...</td>\n",
       "      <td>4209.000000</td>\n",
       "      <td>4209.000000</td>\n",
       "      <td>4209.000000</td>\n",
       "      <td>4209.000000</td>\n",
       "      <td>4209.000000</td>\n",
       "      <td>4209.000000</td>\n",
       "      <td>4209.000000</td>\n",
       "      <td>4209.000000</td>\n",
       "      <td>4209.000000</td>\n",
       "      <td>4209.000000</td>\n",
       "    </tr>\n",
       "    <tr>\n",
       "      <td>mean</td>\n",
       "      <td>4205.960798</td>\n",
       "      <td>100.669318</td>\n",
       "      <td>0.013305</td>\n",
       "      <td>0.0</td>\n",
       "      <td>0.075077</td>\n",
       "      <td>0.057971</td>\n",
       "      <td>0.428130</td>\n",
       "      <td>0.000475</td>\n",
       "      <td>0.002613</td>\n",
       "      <td>0.007603</td>\n",
       "      <td>...</td>\n",
       "      <td>0.318841</td>\n",
       "      <td>0.057258</td>\n",
       "      <td>0.314802</td>\n",
       "      <td>0.020670</td>\n",
       "      <td>0.009503</td>\n",
       "      <td>0.008078</td>\n",
       "      <td>0.007603</td>\n",
       "      <td>0.001663</td>\n",
       "      <td>0.000475</td>\n",
       "      <td>0.001426</td>\n",
       "    </tr>\n",
       "    <tr>\n",
       "      <td>std</td>\n",
       "      <td>2437.608688</td>\n",
       "      <td>12.679381</td>\n",
       "      <td>0.114590</td>\n",
       "      <td>0.0</td>\n",
       "      <td>0.263547</td>\n",
       "      <td>0.233716</td>\n",
       "      <td>0.494867</td>\n",
       "      <td>0.021796</td>\n",
       "      <td>0.051061</td>\n",
       "      <td>0.086872</td>\n",
       "      <td>...</td>\n",
       "      <td>0.466082</td>\n",
       "      <td>0.232363</td>\n",
       "      <td>0.464492</td>\n",
       "      <td>0.142294</td>\n",
       "      <td>0.097033</td>\n",
       "      <td>0.089524</td>\n",
       "      <td>0.086872</td>\n",
       "      <td>0.040752</td>\n",
       "      <td>0.021796</td>\n",
       "      <td>0.037734</td>\n",
       "    </tr>\n",
       "    <tr>\n",
       "      <td>min</td>\n",
       "      <td>0.000000</td>\n",
       "      <td>72.110000</td>\n",
       "      <td>0.000000</td>\n",
       "      <td>0.0</td>\n",
       "      <td>0.000000</td>\n",
       "      <td>0.000000</td>\n",
       "      <td>0.000000</td>\n",
       "      <td>0.000000</td>\n",
       "      <td>0.000000</td>\n",
       "      <td>0.000000</td>\n",
       "      <td>...</td>\n",
       "      <td>0.000000</td>\n",
       "      <td>0.000000</td>\n",
       "      <td>0.000000</td>\n",
       "      <td>0.000000</td>\n",
       "      <td>0.000000</td>\n",
       "      <td>0.000000</td>\n",
       "      <td>0.000000</td>\n",
       "      <td>0.000000</td>\n",
       "      <td>0.000000</td>\n",
       "      <td>0.000000</td>\n",
       "    </tr>\n",
       "    <tr>\n",
       "      <td>25%</td>\n",
       "      <td>2095.000000</td>\n",
       "      <td>90.820000</td>\n",
       "      <td>0.000000</td>\n",
       "      <td>0.0</td>\n",
       "      <td>0.000000</td>\n",
       "      <td>0.000000</td>\n",
       "      <td>0.000000</td>\n",
       "      <td>0.000000</td>\n",
       "      <td>0.000000</td>\n",
       "      <td>0.000000</td>\n",
       "      <td>...</td>\n",
       "      <td>0.000000</td>\n",
       "      <td>0.000000</td>\n",
       "      <td>0.000000</td>\n",
       "      <td>0.000000</td>\n",
       "      <td>0.000000</td>\n",
       "      <td>0.000000</td>\n",
       "      <td>0.000000</td>\n",
       "      <td>0.000000</td>\n",
       "      <td>0.000000</td>\n",
       "      <td>0.000000</td>\n",
       "    </tr>\n",
       "    <tr>\n",
       "      <td>50%</td>\n",
       "      <td>4220.000000</td>\n",
       "      <td>99.150000</td>\n",
       "      <td>0.000000</td>\n",
       "      <td>0.0</td>\n",
       "      <td>0.000000</td>\n",
       "      <td>0.000000</td>\n",
       "      <td>0.000000</td>\n",
       "      <td>0.000000</td>\n",
       "      <td>0.000000</td>\n",
       "      <td>0.000000</td>\n",
       "      <td>...</td>\n",
       "      <td>0.000000</td>\n",
       "      <td>0.000000</td>\n",
       "      <td>0.000000</td>\n",
       "      <td>0.000000</td>\n",
       "      <td>0.000000</td>\n",
       "      <td>0.000000</td>\n",
       "      <td>0.000000</td>\n",
       "      <td>0.000000</td>\n",
       "      <td>0.000000</td>\n",
       "      <td>0.000000</td>\n",
       "    </tr>\n",
       "    <tr>\n",
       "      <td>75%</td>\n",
       "      <td>6314.000000</td>\n",
       "      <td>109.010000</td>\n",
       "      <td>0.000000</td>\n",
       "      <td>0.0</td>\n",
       "      <td>0.000000</td>\n",
       "      <td>0.000000</td>\n",
       "      <td>1.000000</td>\n",
       "      <td>0.000000</td>\n",
       "      <td>0.000000</td>\n",
       "      <td>0.000000</td>\n",
       "      <td>...</td>\n",
       "      <td>1.000000</td>\n",
       "      <td>0.000000</td>\n",
       "      <td>1.000000</td>\n",
       "      <td>0.000000</td>\n",
       "      <td>0.000000</td>\n",
       "      <td>0.000000</td>\n",
       "      <td>0.000000</td>\n",
       "      <td>0.000000</td>\n",
       "      <td>0.000000</td>\n",
       "      <td>0.000000</td>\n",
       "    </tr>\n",
       "    <tr>\n",
       "      <td>max</td>\n",
       "      <td>8417.000000</td>\n",
       "      <td>265.320000</td>\n",
       "      <td>1.000000</td>\n",
       "      <td>0.0</td>\n",
       "      <td>1.000000</td>\n",
       "      <td>1.000000</td>\n",
       "      <td>1.000000</td>\n",
       "      <td>1.000000</td>\n",
       "      <td>1.000000</td>\n",
       "      <td>1.000000</td>\n",
       "      <td>...</td>\n",
       "      <td>1.000000</td>\n",
       "      <td>1.000000</td>\n",
       "      <td>1.000000</td>\n",
       "      <td>1.000000</td>\n",
       "      <td>1.000000</td>\n",
       "      <td>1.000000</td>\n",
       "      <td>1.000000</td>\n",
       "      <td>1.000000</td>\n",
       "      <td>1.000000</td>\n",
       "      <td>1.000000</td>\n",
       "    </tr>\n",
       "  </tbody>\n",
       "</table>\n",
       "<p>8 rows × 370 columns</p>\n",
       "</div>"
      ],
      "text/plain": [
       "                ID            y          X10     X11          X12  \\\n",
       "count  4209.000000  4209.000000  4209.000000  4209.0  4209.000000   \n",
       "mean   4205.960798   100.669318     0.013305     0.0     0.075077   \n",
       "std    2437.608688    12.679381     0.114590     0.0     0.263547   \n",
       "min       0.000000    72.110000     0.000000     0.0     0.000000   \n",
       "25%    2095.000000    90.820000     0.000000     0.0     0.000000   \n",
       "50%    4220.000000    99.150000     0.000000     0.0     0.000000   \n",
       "75%    6314.000000   109.010000     0.000000     0.0     0.000000   \n",
       "max    8417.000000   265.320000     1.000000     0.0     1.000000   \n",
       "\n",
       "               X13          X14          X15          X16          X17  ...  \\\n",
       "count  4209.000000  4209.000000  4209.000000  4209.000000  4209.000000  ...   \n",
       "mean      0.057971     0.428130     0.000475     0.002613     0.007603  ...   \n",
       "std       0.233716     0.494867     0.021796     0.051061     0.086872  ...   \n",
       "min       0.000000     0.000000     0.000000     0.000000     0.000000  ...   \n",
       "25%       0.000000     0.000000     0.000000     0.000000     0.000000  ...   \n",
       "50%       0.000000     0.000000     0.000000     0.000000     0.000000  ...   \n",
       "75%       0.000000     1.000000     0.000000     0.000000     0.000000  ...   \n",
       "max       1.000000     1.000000     1.000000     1.000000     1.000000  ...   \n",
       "\n",
       "              X375         X376         X377         X378         X379  \\\n",
       "count  4209.000000  4209.000000  4209.000000  4209.000000  4209.000000   \n",
       "mean      0.318841     0.057258     0.314802     0.020670     0.009503   \n",
       "std       0.466082     0.232363     0.464492     0.142294     0.097033   \n",
       "min       0.000000     0.000000     0.000000     0.000000     0.000000   \n",
       "25%       0.000000     0.000000     0.000000     0.000000     0.000000   \n",
       "50%       0.000000     0.000000     0.000000     0.000000     0.000000   \n",
       "75%       1.000000     0.000000     1.000000     0.000000     0.000000   \n",
       "max       1.000000     1.000000     1.000000     1.000000     1.000000   \n",
       "\n",
       "              X380         X382         X383         X384         X385  \n",
       "count  4209.000000  4209.000000  4209.000000  4209.000000  4209.000000  \n",
       "mean      0.008078     0.007603     0.001663     0.000475     0.001426  \n",
       "std       0.089524     0.086872     0.040752     0.021796     0.037734  \n",
       "min       0.000000     0.000000     0.000000     0.000000     0.000000  \n",
       "25%       0.000000     0.000000     0.000000     0.000000     0.000000  \n",
       "50%       0.000000     0.000000     0.000000     0.000000     0.000000  \n",
       "75%       0.000000     0.000000     0.000000     0.000000     0.000000  \n",
       "max       1.000000     1.000000     1.000000     1.000000     1.000000  \n",
       "\n",
       "[8 rows x 370 columns]"
      ]
     },
     "execution_count": 19,
     "metadata": {},
     "output_type": "execute_result"
    }
   ],
   "source": [
    "df.describe()"
   ]
  },
  {
   "cell_type": "code",
   "execution_count": 20,
   "metadata": {},
   "outputs": [
    {
     "data": {
      "text/plain": [
       "z     360\n",
       "ak    349\n",
       "y     324\n",
       "ay    313\n",
       "t     306\n",
       "x     300\n",
       "o     269\n",
       "f     227\n",
       "n     195\n",
       "w     182\n",
       "j     181\n",
       "az    175\n",
       "aj    151\n",
       "s     106\n",
       "ap    103\n",
       "h      75\n",
       "d      73\n",
       "al     67\n",
       "v      36\n",
       "af     35\n",
       "ai     34\n",
       "m      34\n",
       "e      32\n",
       "ba     27\n",
       "at     25\n",
       "a      21\n",
       "ax     19\n",
       "i      18\n",
       "am     18\n",
       "aq     18\n",
       "u      17\n",
       "l      16\n",
       "aw     16\n",
       "ad     14\n",
       "k      11\n",
       "au     11\n",
       "b      11\n",
       "as     10\n",
       "r      10\n",
       "bc      6\n",
       "ao      4\n",
       "c       3\n",
       "aa      2\n",
       "q       2\n",
       "g       1\n",
       "ac      1\n",
       "ab      1\n",
       "Name: X0, dtype: int64"
      ]
     },
     "execution_count": 20,
     "metadata": {},
     "output_type": "execute_result"
    }
   ],
   "source": [
    "df['X0'].value_counts()"
   ]
  },
  {
   "cell_type": "markdown",
   "metadata": {},
   "source": [
    "# CSV"
   ]
  },
  {
   "cell_type": "code",
   "execution_count": 21,
   "metadata": {},
   "outputs": [],
   "source": [
    "from io import StringIO, BytesIO"
   ]
  },
  {
   "cell_type": "code",
   "execution_count": 22,
   "metadata": {},
   "outputs": [],
   "source": [
    "data = ('col1,col2,col3\\n'\n",
    "       'x,y,1\\n'\n",
    "       'a,b,2\\n'\n",
    "       'c,d,3\\n')"
   ]
  },
  {
   "cell_type": "code",
   "execution_count": 23,
   "metadata": {},
   "outputs": [
    {
     "data": {
      "text/plain": [
       "str"
      ]
     },
     "execution_count": 23,
     "metadata": {},
     "output_type": "execute_result"
    }
   ],
   "source": [
    "type(data)"
   ]
  },
  {
   "cell_type": "code",
   "execution_count": 24,
   "metadata": {},
   "outputs": [
    {
     "data": {
      "text/html": [
       "<div>\n",
       "<style scoped>\n",
       "    .dataframe tbody tr th:only-of-type {\n",
       "        vertical-align: middle;\n",
       "    }\n",
       "\n",
       "    .dataframe tbody tr th {\n",
       "        vertical-align: top;\n",
       "    }\n",
       "\n",
       "    .dataframe thead th {\n",
       "        text-align: right;\n",
       "    }\n",
       "</style>\n",
       "<table border=\"1\" class=\"dataframe\">\n",
       "  <thead>\n",
       "    <tr style=\"text-align: right;\">\n",
       "      <th></th>\n",
       "      <th>col1</th>\n",
       "      <th>col2</th>\n",
       "      <th>col3</th>\n",
       "    </tr>\n",
       "  </thead>\n",
       "  <tbody>\n",
       "    <tr>\n",
       "      <td>0</td>\n",
       "      <td>x</td>\n",
       "      <td>y</td>\n",
       "      <td>1</td>\n",
       "    </tr>\n",
       "    <tr>\n",
       "      <td>1</td>\n",
       "      <td>a</td>\n",
       "      <td>b</td>\n",
       "      <td>2</td>\n",
       "    </tr>\n",
       "    <tr>\n",
       "      <td>2</td>\n",
       "      <td>c</td>\n",
       "      <td>d</td>\n",
       "      <td>3</td>\n",
       "    </tr>\n",
       "  </tbody>\n",
       "</table>\n",
       "</div>"
      ],
      "text/plain": [
       "  col1 col2  col3\n",
       "0    x    y     1\n",
       "1    a    b     2\n",
       "2    c    d     3"
      ]
     },
     "execution_count": 24,
     "metadata": {},
     "output_type": "execute_result"
    }
   ],
   "source": [
    "pd.read_csv(StringIO(data))"
   ]
  },
  {
   "cell_type": "code",
   "execution_count": 25,
   "metadata": {},
   "outputs": [
    {
     "data": {
      "text/html": [
       "<div>\n",
       "<style scoped>\n",
       "    .dataframe tbody tr th:only-of-type {\n",
       "        vertical-align: middle;\n",
       "    }\n",
       "\n",
       "    .dataframe tbody tr th {\n",
       "        vertical-align: top;\n",
       "    }\n",
       "\n",
       "    .dataframe thead th {\n",
       "        text-align: right;\n",
       "    }\n",
       "</style>\n",
       "<table border=\"1\" class=\"dataframe\">\n",
       "  <thead>\n",
       "    <tr style=\"text-align: right;\">\n",
       "      <th></th>\n",
       "      <th>col1</th>\n",
       "      <th>col3</th>\n",
       "    </tr>\n",
       "  </thead>\n",
       "  <tbody>\n",
       "    <tr>\n",
       "      <td>0</td>\n",
       "      <td>x</td>\n",
       "      <td>1</td>\n",
       "    </tr>\n",
       "    <tr>\n",
       "      <td>1</td>\n",
       "      <td>a</td>\n",
       "      <td>2</td>\n",
       "    </tr>\n",
       "    <tr>\n",
       "      <td>2</td>\n",
       "      <td>c</td>\n",
       "      <td>3</td>\n",
       "    </tr>\n",
       "  </tbody>\n",
       "</table>\n",
       "</div>"
      ],
      "text/plain": [
       "  col1  col3\n",
       "0    x     1\n",
       "1    a     2\n",
       "2    c     3"
      ]
     },
     "execution_count": 25,
     "metadata": {},
     "output_type": "execute_result"
    }
   ],
   "source": [
    "pd.read_csv(StringIO(data), usecols=['col1', 'col3'])"
   ]
  },
  {
   "cell_type": "code",
   "execution_count": 26,
   "metadata": {},
   "outputs": [],
   "source": [
    "# specfying columns data types\n",
    "\n",
    "data = ('a,b,c,d\\n'\n",
    "       '1,2,3,4\\n'\n",
    "       '5,6,7,8\\n'\n",
    "       '9,10,11,12')"
   ]
  },
  {
   "cell_type": "code",
   "execution_count": 27,
   "metadata": {},
   "outputs": [
    {
     "name": "stdout",
     "output_type": "stream",
     "text": [
      "a,b,c,d\n",
      "1,2,3,4\n",
      "5,6,7,8\n",
      "9,10,11,12\n"
     ]
    }
   ],
   "source": [
    "print(data)"
   ]
  },
  {
   "cell_type": "code",
   "execution_count": 28,
   "metadata": {},
   "outputs": [],
   "source": [
    "df = pd.read_csv(StringIO(data), dtype=float)"
   ]
  },
  {
   "cell_type": "code",
   "execution_count": 29,
   "metadata": {},
   "outputs": [
    {
     "data": {
      "text/html": [
       "<div>\n",
       "<style scoped>\n",
       "    .dataframe tbody tr th:only-of-type {\n",
       "        vertical-align: middle;\n",
       "    }\n",
       "\n",
       "    .dataframe tbody tr th {\n",
       "        vertical-align: top;\n",
       "    }\n",
       "\n",
       "    .dataframe thead th {\n",
       "        text-align: right;\n",
       "    }\n",
       "</style>\n",
       "<table border=\"1\" class=\"dataframe\">\n",
       "  <thead>\n",
       "    <tr style=\"text-align: right;\">\n",
       "      <th></th>\n",
       "      <th>a</th>\n",
       "      <th>b</th>\n",
       "      <th>c</th>\n",
       "      <th>d</th>\n",
       "    </tr>\n",
       "  </thead>\n",
       "  <tbody>\n",
       "    <tr>\n",
       "      <td>0</td>\n",
       "      <td>1.0</td>\n",
       "      <td>2.0</td>\n",
       "      <td>3.0</td>\n",
       "      <td>4.0</td>\n",
       "    </tr>\n",
       "    <tr>\n",
       "      <td>1</td>\n",
       "      <td>5.0</td>\n",
       "      <td>6.0</td>\n",
       "      <td>7.0</td>\n",
       "      <td>8.0</td>\n",
       "    </tr>\n",
       "    <tr>\n",
       "      <td>2</td>\n",
       "      <td>9.0</td>\n",
       "      <td>10.0</td>\n",
       "      <td>11.0</td>\n",
       "      <td>12.0</td>\n",
       "    </tr>\n",
       "  </tbody>\n",
       "</table>\n",
       "</div>"
      ],
      "text/plain": [
       "     a     b     c     d\n",
       "0  1.0   2.0   3.0   4.0\n",
       "1  5.0   6.0   7.0   8.0\n",
       "2  9.0  10.0  11.0  12.0"
      ]
     },
     "execution_count": 29,
     "metadata": {},
     "output_type": "execute_result"
    }
   ],
   "source": [
    "df"
   ]
  },
  {
   "cell_type": "code",
   "execution_count": 30,
   "metadata": {},
   "outputs": [
    {
     "data": {
      "text/plain": [
       "0    1.0\n",
       "1    5.0\n",
       "2    9.0\n",
       "Name: a, dtype: float64"
      ]
     },
     "execution_count": 30,
     "metadata": {},
     "output_type": "execute_result"
    }
   ],
   "source": [
    "df['a']"
   ]
  },
  {
   "cell_type": "code",
   "execution_count": 31,
   "metadata": {},
   "outputs": [],
   "source": [
    " df = pd.read_csv(StringIO(data), dtype={'a':object,'b':int,'c':float})"
   ]
  },
  {
   "cell_type": "code",
   "execution_count": 32,
   "metadata": {},
   "outputs": [
    {
     "data": {
      "text/html": [
       "<div>\n",
       "<style scoped>\n",
       "    .dataframe tbody tr th:only-of-type {\n",
       "        vertical-align: middle;\n",
       "    }\n",
       "\n",
       "    .dataframe tbody tr th {\n",
       "        vertical-align: top;\n",
       "    }\n",
       "\n",
       "    .dataframe thead th {\n",
       "        text-align: right;\n",
       "    }\n",
       "</style>\n",
       "<table border=\"1\" class=\"dataframe\">\n",
       "  <thead>\n",
       "    <tr style=\"text-align: right;\">\n",
       "      <th></th>\n",
       "      <th>a</th>\n",
       "      <th>b</th>\n",
       "      <th>c</th>\n",
       "      <th>d</th>\n",
       "    </tr>\n",
       "  </thead>\n",
       "  <tbody>\n",
       "    <tr>\n",
       "      <td>0</td>\n",
       "      <td>1</td>\n",
       "      <td>2</td>\n",
       "      <td>3.0</td>\n",
       "      <td>4</td>\n",
       "    </tr>\n",
       "    <tr>\n",
       "      <td>1</td>\n",
       "      <td>5</td>\n",
       "      <td>6</td>\n",
       "      <td>7.0</td>\n",
       "      <td>8</td>\n",
       "    </tr>\n",
       "    <tr>\n",
       "      <td>2</td>\n",
       "      <td>9</td>\n",
       "      <td>10</td>\n",
       "      <td>11.0</td>\n",
       "      <td>12</td>\n",
       "    </tr>\n",
       "  </tbody>\n",
       "</table>\n",
       "</div>"
      ],
      "text/plain": [
       "   a   b     c   d\n",
       "0  1   2   3.0   4\n",
       "1  5   6   7.0   8\n",
       "2  9  10  11.0  12"
      ]
     },
     "execution_count": 32,
     "metadata": {},
     "output_type": "execute_result"
    }
   ],
   "source": [
    "df"
   ]
  },
  {
   "cell_type": "code",
   "execution_count": 33,
   "metadata": {},
   "outputs": [
    {
     "data": {
      "text/plain": [
       "a     object\n",
       "b      int32\n",
       "c    float64\n",
       "d      int64\n",
       "dtype: object"
      ]
     },
     "execution_count": 33,
     "metadata": {},
     "output_type": "execute_result"
    }
   ],
   "source": [
    "df.dtypes"
   ]
  },
  {
   "cell_type": "code",
   "execution_count": 34,
   "metadata": {},
   "outputs": [],
   "source": [
    "data = ('index,a,b,c\\n'\n",
    "       '4,apple,bat,7.6\\n'\n",
    "       '8,orange,cow')"
   ]
  },
  {
   "cell_type": "code",
   "execution_count": 35,
   "metadata": {},
   "outputs": [
    {
     "data": {
      "text/html": [
       "<div>\n",
       "<style scoped>\n",
       "    .dataframe tbody tr th:only-of-type {\n",
       "        vertical-align: middle;\n",
       "    }\n",
       "\n",
       "    .dataframe tbody tr th {\n",
       "        vertical-align: top;\n",
       "    }\n",
       "\n",
       "    .dataframe thead th {\n",
       "        text-align: right;\n",
       "    }\n",
       "</style>\n",
       "<table border=\"1\" class=\"dataframe\">\n",
       "  <thead>\n",
       "    <tr style=\"text-align: right;\">\n",
       "      <th></th>\n",
       "      <th>a</th>\n",
       "      <th>b</th>\n",
       "      <th>c</th>\n",
       "    </tr>\n",
       "    <tr>\n",
       "      <th>index</th>\n",
       "      <th></th>\n",
       "      <th></th>\n",
       "      <th></th>\n",
       "    </tr>\n",
       "  </thead>\n",
       "  <tbody>\n",
       "    <tr>\n",
       "      <td>4</td>\n",
       "      <td>apple</td>\n",
       "      <td>bat</td>\n",
       "      <td>7.6</td>\n",
       "    </tr>\n",
       "    <tr>\n",
       "      <td>8</td>\n",
       "      <td>orange</td>\n",
       "      <td>cow</td>\n",
       "      <td>NaN</td>\n",
       "    </tr>\n",
       "  </tbody>\n",
       "</table>\n",
       "</div>"
      ],
      "text/plain": [
       "            a    b    c\n",
       "index                  \n",
       "4       apple  bat  7.6\n",
       "8      orange  cow  NaN"
      ]
     },
     "execution_count": 35,
     "metadata": {},
     "output_type": "execute_result"
    }
   ],
   "source": [
    "pd.read_csv(StringIO(data),index_col=0)"
   ]
  },
  {
   "cell_type": "code",
   "execution_count": 36,
   "metadata": {},
   "outputs": [],
   "source": [
    "data = ('a,b,c\\n'\n",
    "       '4,apple,bat,\\n'\n",
    "       '8,orange,cow,')"
   ]
  },
  {
   "cell_type": "code",
   "execution_count": 37,
   "metadata": {},
   "outputs": [
    {
     "data": {
      "text/html": [
       "<div>\n",
       "<style scoped>\n",
       "    .dataframe tbody tr th:only-of-type {\n",
       "        vertical-align: middle;\n",
       "    }\n",
       "\n",
       "    .dataframe tbody tr th {\n",
       "        vertical-align: top;\n",
       "    }\n",
       "\n",
       "    .dataframe thead th {\n",
       "        text-align: right;\n",
       "    }\n",
       "</style>\n",
       "<table border=\"1\" class=\"dataframe\">\n",
       "  <thead>\n",
       "    <tr style=\"text-align: right;\">\n",
       "      <th></th>\n",
       "      <th>a</th>\n",
       "      <th>b</th>\n",
       "      <th>c</th>\n",
       "    </tr>\n",
       "  </thead>\n",
       "  <tbody>\n",
       "    <tr>\n",
       "      <td>4</td>\n",
       "      <td>apple</td>\n",
       "      <td>bat</td>\n",
       "      <td>NaN</td>\n",
       "    </tr>\n",
       "    <tr>\n",
       "      <td>8</td>\n",
       "      <td>orange</td>\n",
       "      <td>cow</td>\n",
       "      <td>NaN</td>\n",
       "    </tr>\n",
       "  </tbody>\n",
       "</table>\n",
       "</div>"
      ],
      "text/plain": [
       "        a    b   c\n",
       "4   apple  bat NaN\n",
       "8  orange  cow NaN"
      ]
     },
     "execution_count": 37,
     "metadata": {},
     "output_type": "execute_result"
    }
   ],
   "source": [
    "pd.read_csv(StringIO(data))"
   ]
  },
  {
   "cell_type": "code",
   "execution_count": 38,
   "metadata": {},
   "outputs": [
    {
     "data": {
      "text/html": [
       "<div>\n",
       "<style scoped>\n",
       "    .dataframe tbody tr th:only-of-type {\n",
       "        vertical-align: middle;\n",
       "    }\n",
       "\n",
       "    .dataframe tbody tr th {\n",
       "        vertical-align: top;\n",
       "    }\n",
       "\n",
       "    .dataframe thead th {\n",
       "        text-align: right;\n",
       "    }\n",
       "</style>\n",
       "<table border=\"1\" class=\"dataframe\">\n",
       "  <thead>\n",
       "    <tr style=\"text-align: right;\">\n",
       "      <th></th>\n",
       "      <th>a</th>\n",
       "      <th>b</th>\n",
       "      <th>c</th>\n",
       "    </tr>\n",
       "  </thead>\n",
       "  <tbody>\n",
       "    <tr>\n",
       "      <td>0</td>\n",
       "      <td>4</td>\n",
       "      <td>apple</td>\n",
       "      <td>bat</td>\n",
       "    </tr>\n",
       "    <tr>\n",
       "      <td>1</td>\n",
       "      <td>8</td>\n",
       "      <td>orange</td>\n",
       "      <td>cow</td>\n",
       "    </tr>\n",
       "  </tbody>\n",
       "</table>\n",
       "</div>"
      ],
      "text/plain": [
       "   a       b    c\n",
       "0  4   apple  bat\n",
       "1  8  orange  cow"
      ]
     },
     "execution_count": 38,
     "metadata": {},
     "output_type": "execute_result"
    }
   ],
   "source": [
    "pd.read_csv(StringIO(data),index_col=False)"
   ]
  },
  {
   "cell_type": "code",
   "execution_count": 39,
   "metadata": {},
   "outputs": [
    {
     "data": {
      "text/html": [
       "<div>\n",
       "<style scoped>\n",
       "    .dataframe tbody tr th:only-of-type {\n",
       "        vertical-align: middle;\n",
       "    }\n",
       "\n",
       "    .dataframe tbody tr th {\n",
       "        vertical-align: top;\n",
       "    }\n",
       "\n",
       "    .dataframe thead th {\n",
       "        text-align: right;\n",
       "    }\n",
       "</style>\n",
       "<table border=\"1\" class=\"dataframe\">\n",
       "  <thead>\n",
       "    <tr style=\"text-align: right;\">\n",
       "      <th></th>\n",
       "      <th>b</th>\n",
       "      <th>c</th>\n",
       "    </tr>\n",
       "  </thead>\n",
       "  <tbody>\n",
       "    <tr>\n",
       "      <td>0</td>\n",
       "      <td>apple</td>\n",
       "      <td>bat</td>\n",
       "    </tr>\n",
       "    <tr>\n",
       "      <td>1</td>\n",
       "      <td>orange</td>\n",
       "      <td>cow</td>\n",
       "    </tr>\n",
       "  </tbody>\n",
       "</table>\n",
       "</div>"
      ],
      "text/plain": [
       "        b    c\n",
       "0   apple  bat\n",
       "1  orange  cow"
      ]
     },
     "execution_count": 39,
     "metadata": {},
     "output_type": "execute_result"
    }
   ],
   "source": [
    "pd.read_csv(StringIO(data), usecols=['b','c'], index_col=False)"
   ]
  },
  {
   "cell_type": "code",
   "execution_count": 40,
   "metadata": {},
   "outputs": [],
   "source": [
    "data = 'a,b\\n\"hello, \\\\\"Akshay\\\\\", nice to see you\",5'"
   ]
  },
  {
   "cell_type": "code",
   "execution_count": 41,
   "metadata": {},
   "outputs": [
    {
     "data": {
      "text/html": [
       "<div>\n",
       "<style scoped>\n",
       "    .dataframe tbody tr th:only-of-type {\n",
       "        vertical-align: middle;\n",
       "    }\n",
       "\n",
       "    .dataframe tbody tr th {\n",
       "        vertical-align: top;\n",
       "    }\n",
       "\n",
       "    .dataframe thead th {\n",
       "        text-align: right;\n",
       "    }\n",
       "</style>\n",
       "<table border=\"1\" class=\"dataframe\">\n",
       "  <thead>\n",
       "    <tr style=\"text-align: right;\">\n",
       "      <th></th>\n",
       "      <th>a</th>\n",
       "      <th>b</th>\n",
       "    </tr>\n",
       "  </thead>\n",
       "  <tbody>\n",
       "    <tr>\n",
       "      <td>0</td>\n",
       "      <td>hello, \"Akshay\", nice to see you</td>\n",
       "      <td>5</td>\n",
       "    </tr>\n",
       "  </tbody>\n",
       "</table>\n",
       "</div>"
      ],
      "text/plain": [
       "                                  a  b\n",
       "0  hello, \"Akshay\", nice to see you  5"
      ]
     },
     "execution_count": 41,
     "metadata": {},
     "output_type": "execute_result"
    }
   ],
   "source": [
    "pd.read_csv(StringIO(data),escapechar='\\\\')"
   ]
  },
  {
   "cell_type": "markdown",
   "metadata": {},
   "source": [
    "# Read JSON to CSV"
   ]
  },
  {
   "cell_type": "code",
   "execution_count": 42,
   "metadata": {},
   "outputs": [],
   "source": [
    "df1 = pd.read_json('example_1.json',typ='series')"
   ]
  },
  {
   "cell_type": "code",
   "execution_count": 43,
   "metadata": {},
   "outputs": [],
   "source": [
    "df = pd.read_csv('wine.data')"
   ]
  },
  {
   "cell_type": "code",
   "execution_count": 44,
   "metadata": {},
   "outputs": [],
   "source": [
    "df.to_csv('wine.csv')"
   ]
  },
  {
   "cell_type": "code",
   "execution_count": 45,
   "metadata": {},
   "outputs": [
    {
     "data": {
      "text/plain": [
       "'[{\"1\":1,\"14.23\":13.2,\"1.71\":1.78,\"2.43\":2.14,\"15.6\":11.2,\"127\":100,\"2.8\":2.65,\"3.06\":2.76,\".28\":0.26,\"2.29\":1.28,\"5.64\":4.38,\"1.04\":1.05,\"3.92\":3.4,\"1065\":1050},{\"1\":1,\"14.23\":13.16,\"1.71\":2.36,\"2.43\":2.67,\"15.6\":18.6,\"127\":101,\"2.8\":2.8,\"3.06\":3.24,\".28\":0.3,\"2.29\":2.81,\"5.64\":5.68,\"1.04\":1.03,\"3.92\":3.17,\"1065\":1185},{\"1\":1,\"14.23\":14.37,\"1.71\":1.95,\"2.43\":2.5,\"15.6\":16.8,\"127\":113,\"2.8\":3.85,\"3.06\":3.49,\".28\":0.24,\"2.29\":2.18,\"5.64\":7.8,\"1.04\":0.86,\"3.92\":3.45,\"1065\":1480},{\"1\":1,\"14.23\":13.24,\"1.71\":2.59,\"2.43\":2.87,\"15.6\":21.0,\"127\":118,\"2.8\":2.8,\"3.06\":2.69,\".28\":0.39,\"2.29\":1.82,\"5.64\":4.32,\"1.04\":1.04,\"3.92\":2.93,\"1065\":735},{\"1\":1,\"14.23\":14.2,\"1.71\":1.76,\"2.43\":2.45,\"15.6\":15.2,\"127\":112,\"2.8\":3.27,\"3.06\":3.39,\".28\":0.34,\"2.29\":1.97,\"5.64\":6.75,\"1.04\":1.05,\"3.92\":2.85,\"1065\":1450},{\"1\":1,\"14.23\":14.39,\"1.71\":1.87,\"2.43\":2.45,\"15.6\":14.6,\"127\":96,\"2.8\":2.5,\"3.06\":2.52,\".28\":0.3,\"2.29\":1.98,\"5.64\":5.25,\"1.04\":1.02,\"3.92\":3.58,\"1065\":1290},{\"1\":1,\"14.23\":14.06,\"1.71\":2.15,\"2.43\":2.61,\"15.6\":17.6,\"127\":121,\"2.8\":2.6,\"3.06\":2.51,\".28\":0.31,\"2.29\":1.25,\"5.64\":5.05,\"1.04\":1.06,\"3.92\":3.58,\"1065\":1295},{\"1\":1,\"14.23\":14.83,\"1.71\":1.64,\"2.43\":2.17,\"15.6\":14.0,\"127\":97,\"2.8\":2.8,\"3.06\":2.98,\".28\":0.29,\"2.29\":1.98,\"5.64\":5.2,\"1.04\":1.08,\"3.92\":2.85,\"1065\":1045},{\"1\":1,\"14.23\":13.86,\"1.71\":1.35,\"2.43\":2.27,\"15.6\":16.0,\"127\":98,\"2.8\":2.98,\"3.06\":3.15,\".28\":0.22,\"2.29\":1.85,\"5.64\":7.22,\"1.04\":1.01,\"3.92\":3.55,\"1065\":1045},{\"1\":1,\"14.23\":14.1,\"1.71\":2.16,\"2.43\":2.3,\"15.6\":18.0,\"127\":105,\"2.8\":2.95,\"3.06\":3.32,\".28\":0.22,\"2.29\":2.38,\"5.64\":5.75,\"1.04\":1.25,\"3.92\":3.17,\"1065\":1510},{\"1\":1,\"14.23\":14.12,\"1.71\":1.48,\"2.43\":2.32,\"15.6\":16.8,\"127\":95,\"2.8\":2.2,\"3.06\":2.43,\".28\":0.26,\"2.29\":1.57,\"5.64\":5.0,\"1.04\":1.17,\"3.92\":2.82,\"1065\":1280},{\"1\":1,\"14.23\":13.75,\"1.71\":1.73,\"2.43\":2.41,\"15.6\":16.0,\"127\":89,\"2.8\":2.6,\"3.06\":2.76,\".28\":0.29,\"2.29\":1.81,\"5.64\":5.6,\"1.04\":1.15,\"3.92\":2.9,\"1065\":1320},{\"1\":1,\"14.23\":14.75,\"1.71\":1.73,\"2.43\":2.39,\"15.6\":11.4,\"127\":91,\"2.8\":3.1,\"3.06\":3.69,\".28\":0.43,\"2.29\":2.81,\"5.64\":5.4,\"1.04\":1.25,\"3.92\":2.73,\"1065\":1150},{\"1\":1,\"14.23\":14.38,\"1.71\":1.87,\"2.43\":2.38,\"15.6\":12.0,\"127\":102,\"2.8\":3.3,\"3.06\":3.64,\".28\":0.29,\"2.29\":2.96,\"5.64\":7.5,\"1.04\":1.2,\"3.92\":3.0,\"1065\":1547},{\"1\":1,\"14.23\":13.63,\"1.71\":1.81,\"2.43\":2.7,\"15.6\":17.2,\"127\":112,\"2.8\":2.85,\"3.06\":2.91,\".28\":0.3,\"2.29\":1.46,\"5.64\":7.3,\"1.04\":1.28,\"3.92\":2.88,\"1065\":1310},{\"1\":1,\"14.23\":14.3,\"1.71\":1.92,\"2.43\":2.72,\"15.6\":20.0,\"127\":120,\"2.8\":2.8,\"3.06\":3.14,\".28\":0.33,\"2.29\":1.97,\"5.64\":6.2,\"1.04\":1.07,\"3.92\":2.65,\"1065\":1280},{\"1\":1,\"14.23\":13.83,\"1.71\":1.57,\"2.43\":2.62,\"15.6\":20.0,\"127\":115,\"2.8\":2.95,\"3.06\":3.4,\".28\":0.4,\"2.29\":1.72,\"5.64\":6.6,\"1.04\":1.13,\"3.92\":2.57,\"1065\":1130},{\"1\":1,\"14.23\":14.19,\"1.71\":1.59,\"2.43\":2.48,\"15.6\":16.5,\"127\":108,\"2.8\":3.3,\"3.06\":3.93,\".28\":0.32,\"2.29\":1.86,\"5.64\":8.7,\"1.04\":1.23,\"3.92\":2.82,\"1065\":1680},{\"1\":1,\"14.23\":13.64,\"1.71\":3.1,\"2.43\":2.56,\"15.6\":15.2,\"127\":116,\"2.8\":2.7,\"3.06\":3.03,\".28\":0.17,\"2.29\":1.66,\"5.64\":5.1,\"1.04\":0.96,\"3.92\":3.36,\"1065\":845},{\"1\":1,\"14.23\":14.06,\"1.71\":1.63,\"2.43\":2.28,\"15.6\":16.0,\"127\":126,\"2.8\":3.0,\"3.06\":3.17,\".28\":0.24,\"2.29\":2.1,\"5.64\":5.65,\"1.04\":1.09,\"3.92\":3.71,\"1065\":780},{\"1\":1,\"14.23\":12.93,\"1.71\":3.8,\"2.43\":2.65,\"15.6\":18.6,\"127\":102,\"2.8\":2.41,\"3.06\":2.41,\".28\":0.25,\"2.29\":1.98,\"5.64\":4.5,\"1.04\":1.03,\"3.92\":3.52,\"1065\":770},{\"1\":1,\"14.23\":13.71,\"1.71\":1.86,\"2.43\":2.36,\"15.6\":16.6,\"127\":101,\"2.8\":2.61,\"3.06\":2.88,\".28\":0.27,\"2.29\":1.69,\"5.64\":3.8,\"1.04\":1.11,\"3.92\":4.0,\"1065\":1035},{\"1\":1,\"14.23\":12.85,\"1.71\":1.6,\"2.43\":2.52,\"15.6\":17.8,\"127\":95,\"2.8\":2.48,\"3.06\":2.37,\".28\":0.26,\"2.29\":1.46,\"5.64\":3.93,\"1.04\":1.09,\"3.92\":3.63,\"1065\":1015},{\"1\":1,\"14.23\":13.5,\"1.71\":1.81,\"2.43\":2.61,\"15.6\":20.0,\"127\":96,\"2.8\":2.53,\"3.06\":2.61,\".28\":0.28,\"2.29\":1.66,\"5.64\":3.52,\"1.04\":1.12,\"3.92\":3.82,\"1065\":845},{\"1\":1,\"14.23\":13.05,\"1.71\":2.05,\"2.43\":3.22,\"15.6\":25.0,\"127\":124,\"2.8\":2.63,\"3.06\":2.68,\".28\":0.47,\"2.29\":1.92,\"5.64\":3.58,\"1.04\":1.13,\"3.92\":3.2,\"1065\":830},{\"1\":1,\"14.23\":13.39,\"1.71\":1.77,\"2.43\":2.62,\"15.6\":16.1,\"127\":93,\"2.8\":2.85,\"3.06\":2.94,\".28\":0.34,\"2.29\":1.45,\"5.64\":4.8,\"1.04\":0.92,\"3.92\":3.22,\"1065\":1195},{\"1\":1,\"14.23\":13.3,\"1.71\":1.72,\"2.43\":2.14,\"15.6\":17.0,\"127\":94,\"2.8\":2.4,\"3.06\":2.19,\".28\":0.27,\"2.29\":1.35,\"5.64\":3.95,\"1.04\":1.02,\"3.92\":2.77,\"1065\":1285},{\"1\":1,\"14.23\":13.87,\"1.71\":1.9,\"2.43\":2.8,\"15.6\":19.4,\"127\":107,\"2.8\":2.95,\"3.06\":2.97,\".28\":0.37,\"2.29\":1.76,\"5.64\":4.5,\"1.04\":1.25,\"3.92\":3.4,\"1065\":915},{\"1\":1,\"14.23\":14.02,\"1.71\":1.68,\"2.43\":2.21,\"15.6\":16.0,\"127\":96,\"2.8\":2.65,\"3.06\":2.33,\".28\":0.26,\"2.29\":1.98,\"5.64\":4.7,\"1.04\":1.04,\"3.92\":3.59,\"1065\":1035},{\"1\":1,\"14.23\":13.73,\"1.71\":1.5,\"2.43\":2.7,\"15.6\":22.5,\"127\":101,\"2.8\":3.0,\"3.06\":3.25,\".28\":0.29,\"2.29\":2.38,\"5.64\":5.7,\"1.04\":1.19,\"3.92\":2.71,\"1065\":1285},{\"1\":1,\"14.23\":13.58,\"1.71\":1.66,\"2.43\":2.36,\"15.6\":19.1,\"127\":106,\"2.8\":2.86,\"3.06\":3.19,\".28\":0.22,\"2.29\":1.95,\"5.64\":6.9,\"1.04\":1.09,\"3.92\":2.88,\"1065\":1515},{\"1\":1,\"14.23\":13.68,\"1.71\":1.83,\"2.43\":2.36,\"15.6\":17.2,\"127\":104,\"2.8\":2.42,\"3.06\":2.69,\".28\":0.42,\"2.29\":1.97,\"5.64\":3.84,\"1.04\":1.23,\"3.92\":2.87,\"1065\":990},{\"1\":1,\"14.23\":13.76,\"1.71\":1.53,\"2.43\":2.7,\"15.6\":19.5,\"127\":132,\"2.8\":2.95,\"3.06\":2.74,\".28\":0.5,\"2.29\":1.35,\"5.64\":5.4,\"1.04\":1.25,\"3.92\":3.0,\"1065\":1235},{\"1\":1,\"14.23\":13.51,\"1.71\":1.8,\"2.43\":2.65,\"15.6\":19.0,\"127\":110,\"2.8\":2.35,\"3.06\":2.53,\".28\":0.29,\"2.29\":1.54,\"5.64\":4.2,\"1.04\":1.1,\"3.92\":2.87,\"1065\":1095},{\"1\":1,\"14.23\":13.48,\"1.71\":1.81,\"2.43\":2.41,\"15.6\":20.5,\"127\":100,\"2.8\":2.7,\"3.06\":2.98,\".28\":0.26,\"2.29\":1.86,\"5.64\":5.1,\"1.04\":1.04,\"3.92\":3.47,\"1065\":920},{\"1\":1,\"14.23\":13.28,\"1.71\":1.64,\"2.43\":2.84,\"15.6\":15.5,\"127\":110,\"2.8\":2.6,\"3.06\":2.68,\".28\":0.34,\"2.29\":1.36,\"5.64\":4.6,\"1.04\":1.09,\"3.92\":2.78,\"1065\":880},{\"1\":1,\"14.23\":13.05,\"1.71\":1.65,\"2.43\":2.55,\"15.6\":18.0,\"127\":98,\"2.8\":2.45,\"3.06\":2.43,\".28\":0.29,\"2.29\":1.44,\"5.64\":4.25,\"1.04\":1.12,\"3.92\":2.51,\"1065\":1105},{\"1\":1,\"14.23\":13.07,\"1.71\":1.5,\"2.43\":2.1,\"15.6\":15.5,\"127\":98,\"2.8\":2.4,\"3.06\":2.64,\".28\":0.28,\"2.29\":1.37,\"5.64\":3.7,\"1.04\":1.18,\"3.92\":2.69,\"1065\":1020},{\"1\":1,\"14.23\":14.22,\"1.71\":3.99,\"2.43\":2.51,\"15.6\":13.2,\"127\":128,\"2.8\":3.0,\"3.06\":3.04,\".28\":0.2,\"2.29\":2.08,\"5.64\":5.1,\"1.04\":0.89,\"3.92\":3.53,\"1065\":760},{\"1\":1,\"14.23\":13.56,\"1.71\":1.71,\"2.43\":2.31,\"15.6\":16.2,\"127\":117,\"2.8\":3.15,\"3.06\":3.29,\".28\":0.34,\"2.29\":2.34,\"5.64\":6.13,\"1.04\":0.95,\"3.92\":3.38,\"1065\":795},{\"1\":1,\"14.23\":13.41,\"1.71\":3.84,\"2.43\":2.12,\"15.6\":18.8,\"127\":90,\"2.8\":2.45,\"3.06\":2.68,\".28\":0.27,\"2.29\":1.48,\"5.64\":4.28,\"1.04\":0.91,\"3.92\":3.0,\"1065\":1035},{\"1\":1,\"14.23\":13.88,\"1.71\":1.89,\"2.43\":2.59,\"15.6\":15.0,\"127\":101,\"2.8\":3.25,\"3.06\":3.56,\".28\":0.17,\"2.29\":1.7,\"5.64\":5.43,\"1.04\":0.88,\"3.92\":3.56,\"1065\":1095},{\"1\":1,\"14.23\":13.24,\"1.71\":3.98,\"2.43\":2.29,\"15.6\":17.5,\"127\":103,\"2.8\":2.64,\"3.06\":2.63,\".28\":0.32,\"2.29\":1.66,\"5.64\":4.36,\"1.04\":0.82,\"3.92\":3.0,\"1065\":680},{\"1\":1,\"14.23\":13.05,\"1.71\":1.77,\"2.43\":2.1,\"15.6\":17.0,\"127\":107,\"2.8\":3.0,\"3.06\":3.0,\".28\":0.28,\"2.29\":2.03,\"5.64\":5.04,\"1.04\":0.88,\"3.92\":3.35,\"1065\":885},{\"1\":1,\"14.23\":14.21,\"1.71\":4.04,\"2.43\":2.44,\"15.6\":18.9,\"127\":111,\"2.8\":2.85,\"3.06\":2.65,\".28\":0.3,\"2.29\":1.25,\"5.64\":5.24,\"1.04\":0.87,\"3.92\":3.33,\"1065\":1080},{\"1\":1,\"14.23\":14.38,\"1.71\":3.59,\"2.43\":2.28,\"15.6\":16.0,\"127\":102,\"2.8\":3.25,\"3.06\":3.17,\".28\":0.27,\"2.29\":2.19,\"5.64\":4.9,\"1.04\":1.04,\"3.92\":3.44,\"1065\":1065},{\"1\":1,\"14.23\":13.9,\"1.71\":1.68,\"2.43\":2.12,\"15.6\":16.0,\"127\":101,\"2.8\":3.1,\"3.06\":3.39,\".28\":0.21,\"2.29\":2.14,\"5.64\":6.1,\"1.04\":0.91,\"3.92\":3.33,\"1065\":985},{\"1\":1,\"14.23\":14.1,\"1.71\":2.02,\"2.43\":2.4,\"15.6\":18.8,\"127\":103,\"2.8\":2.75,\"3.06\":2.92,\".28\":0.32,\"2.29\":2.38,\"5.64\":6.2,\"1.04\":1.07,\"3.92\":2.75,\"1065\":1060},{\"1\":1,\"14.23\":13.94,\"1.71\":1.73,\"2.43\":2.27,\"15.6\":17.4,\"127\":108,\"2.8\":2.88,\"3.06\":3.54,\".28\":0.32,\"2.29\":2.08,\"5.64\":8.9,\"1.04\":1.12,\"3.92\":3.1,\"1065\":1260},{\"1\":1,\"14.23\":13.05,\"1.71\":1.73,\"2.43\":2.04,\"15.6\":12.4,\"127\":92,\"2.8\":2.72,\"3.06\":3.27,\".28\":0.17,\"2.29\":2.91,\"5.64\":7.2,\"1.04\":1.12,\"3.92\":2.91,\"1065\":1150},{\"1\":1,\"14.23\":13.83,\"1.71\":1.65,\"2.43\":2.6,\"15.6\":17.2,\"127\":94,\"2.8\":2.45,\"3.06\":2.99,\".28\":0.22,\"2.29\":2.29,\"5.64\":5.6,\"1.04\":1.24,\"3.92\":3.37,\"1065\":1265},{\"1\":1,\"14.23\":13.82,\"1.71\":1.75,\"2.43\":2.42,\"15.6\":14.0,\"127\":111,\"2.8\":3.88,\"3.06\":3.74,\".28\":0.32,\"2.29\":1.87,\"5.64\":7.05,\"1.04\":1.01,\"3.92\":3.26,\"1065\":1190},{\"1\":1,\"14.23\":13.77,\"1.71\":1.9,\"2.43\":2.68,\"15.6\":17.1,\"127\":115,\"2.8\":3.0,\"3.06\":2.79,\".28\":0.39,\"2.29\":1.68,\"5.64\":6.3,\"1.04\":1.13,\"3.92\":2.93,\"1065\":1375},{\"1\":1,\"14.23\":13.74,\"1.71\":1.67,\"2.43\":2.25,\"15.6\":16.4,\"127\":118,\"2.8\":2.6,\"3.06\":2.9,\".28\":0.21,\"2.29\":1.62,\"5.64\":5.85,\"1.04\":0.92,\"3.92\":3.2,\"1065\":1060},{\"1\":1,\"14.23\":13.56,\"1.71\":1.73,\"2.43\":2.46,\"15.6\":20.5,\"127\":116,\"2.8\":2.96,\"3.06\":2.78,\".28\":0.2,\"2.29\":2.45,\"5.64\":6.25,\"1.04\":0.98,\"3.92\":3.03,\"1065\":1120},{\"1\":1,\"14.23\":14.22,\"1.71\":1.7,\"2.43\":2.3,\"15.6\":16.3,\"127\":118,\"2.8\":3.2,\"3.06\":3.0,\".28\":0.26,\"2.29\":2.03,\"5.64\":6.38,\"1.04\":0.94,\"3.92\":3.31,\"1065\":970},{\"1\":1,\"14.23\":13.29,\"1.71\":1.97,\"2.43\":2.68,\"15.6\":16.8,\"127\":102,\"2.8\":3.0,\"3.06\":3.23,\".28\":0.31,\"2.29\":1.66,\"5.64\":6.0,\"1.04\":1.07,\"3.92\":2.84,\"1065\":1270},{\"1\":1,\"14.23\":13.72,\"1.71\":1.43,\"2.43\":2.5,\"15.6\":16.7,\"127\":108,\"2.8\":3.4,\"3.06\":3.67,\".28\":0.19,\"2.29\":2.04,\"5.64\":6.8,\"1.04\":0.89,\"3.92\":2.87,\"1065\":1285},{\"1\":2,\"14.23\":12.37,\"1.71\":0.94,\"2.43\":1.36,\"15.6\":10.6,\"127\":88,\"2.8\":1.98,\"3.06\":0.57,\".28\":0.28,\"2.29\":0.42,\"5.64\":1.95,\"1.04\":1.05,\"3.92\":1.82,\"1065\":520},{\"1\":2,\"14.23\":12.33,\"1.71\":1.1,\"2.43\":2.28,\"15.6\":16.0,\"127\":101,\"2.8\":2.05,\"3.06\":1.09,\".28\":0.63,\"2.29\":0.41,\"5.64\":3.27,\"1.04\":1.25,\"3.92\":1.67,\"1065\":680},{\"1\":2,\"14.23\":12.64,\"1.71\":1.36,\"2.43\":2.02,\"15.6\":16.8,\"127\":100,\"2.8\":2.02,\"3.06\":1.41,\".28\":0.53,\"2.29\":0.62,\"5.64\":5.75,\"1.04\":0.98,\"3.92\":1.59,\"1065\":450},{\"1\":2,\"14.23\":13.67,\"1.71\":1.25,\"2.43\":1.92,\"15.6\":18.0,\"127\":94,\"2.8\":2.1,\"3.06\":1.79,\".28\":0.32,\"2.29\":0.73,\"5.64\":3.8,\"1.04\":1.23,\"3.92\":2.46,\"1065\":630},{\"1\":2,\"14.23\":12.37,\"1.71\":1.13,\"2.43\":2.16,\"15.6\":19.0,\"127\":87,\"2.8\":3.5,\"3.06\":3.1,\".28\":0.19,\"2.29\":1.87,\"5.64\":4.45,\"1.04\":1.22,\"3.92\":2.87,\"1065\":420},{\"1\":2,\"14.23\":12.17,\"1.71\":1.45,\"2.43\":2.53,\"15.6\":19.0,\"127\":104,\"2.8\":1.89,\"3.06\":1.75,\".28\":0.45,\"2.29\":1.03,\"5.64\":2.95,\"1.04\":1.45,\"3.92\":2.23,\"1065\":355},{\"1\":2,\"14.23\":12.37,\"1.71\":1.21,\"2.43\":2.56,\"15.6\":18.1,\"127\":98,\"2.8\":2.42,\"3.06\":2.65,\".28\":0.37,\"2.29\":2.08,\"5.64\":4.6,\"1.04\":1.19,\"3.92\":2.3,\"1065\":678},{\"1\":2,\"14.23\":13.11,\"1.71\":1.01,\"2.43\":1.7,\"15.6\":15.0,\"127\":78,\"2.8\":2.98,\"3.06\":3.18,\".28\":0.26,\"2.29\":2.28,\"5.64\":5.3,\"1.04\":1.12,\"3.92\":3.18,\"1065\":502},{\"1\":2,\"14.23\":12.37,\"1.71\":1.17,\"2.43\":1.92,\"15.6\":19.6,\"127\":78,\"2.8\":2.11,\"3.06\":2.0,\".28\":0.27,\"2.29\":1.04,\"5.64\":4.68,\"1.04\":1.12,\"3.92\":3.48,\"1065\":510},{\"1\":2,\"14.23\":13.34,\"1.71\":0.94,\"2.43\":2.36,\"15.6\":17.0,\"127\":110,\"2.8\":2.53,\"3.06\":1.3,\".28\":0.55,\"2.29\":0.42,\"5.64\":3.17,\"1.04\":1.02,\"3.92\":1.93,\"1065\":750},{\"1\":2,\"14.23\":12.21,\"1.71\":1.19,\"2.43\":1.75,\"15.6\":16.8,\"127\":151,\"2.8\":1.85,\"3.06\":1.28,\".28\":0.14,\"2.29\":2.5,\"5.64\":2.85,\"1.04\":1.28,\"3.92\":3.07,\"1065\":718},{\"1\":2,\"14.23\":12.29,\"1.71\":1.61,\"2.43\":2.21,\"15.6\":20.4,\"127\":103,\"2.8\":1.1,\"3.06\":1.02,\".28\":0.37,\"2.29\":1.46,\"5.64\":3.05,\"1.04\":0.906,\"3.92\":1.82,\"1065\":870},{\"1\":2,\"14.23\":13.86,\"1.71\":1.51,\"2.43\":2.67,\"15.6\":25.0,\"127\":86,\"2.8\":2.95,\"3.06\":2.86,\".28\":0.21,\"2.29\":1.87,\"5.64\":3.38,\"1.04\":1.36,\"3.92\":3.16,\"1065\":410},{\"1\":2,\"14.23\":13.49,\"1.71\":1.66,\"2.43\":2.24,\"15.6\":24.0,\"127\":87,\"2.8\":1.88,\"3.06\":1.84,\".28\":0.27,\"2.29\":1.03,\"5.64\":3.74,\"1.04\":0.98,\"3.92\":2.78,\"1065\":472},{\"1\":2,\"14.23\":12.99,\"1.71\":1.67,\"2.43\":2.6,\"15.6\":30.0,\"127\":139,\"2.8\":3.3,\"3.06\":2.89,\".28\":0.21,\"2.29\":1.96,\"5.64\":3.35,\"1.04\":1.31,\"3.92\":3.5,\"1065\":985},{\"1\":2,\"14.23\":11.96,\"1.71\":1.09,\"2.43\":2.3,\"15.6\":21.0,\"127\":101,\"2.8\":3.38,\"3.06\":2.14,\".28\":0.13,\"2.29\":1.65,\"5.64\":3.21,\"1.04\":0.99,\"3.92\":3.13,\"1065\":886},{\"1\":2,\"14.23\":11.66,\"1.71\":1.88,\"2.43\":1.92,\"15.6\":16.0,\"127\":97,\"2.8\":1.61,\"3.06\":1.57,\".28\":0.34,\"2.29\":1.15,\"5.64\":3.8,\"1.04\":1.23,\"3.92\":2.14,\"1065\":428},{\"1\":2,\"14.23\":13.03,\"1.71\":0.9,\"2.43\":1.71,\"15.6\":16.0,\"127\":86,\"2.8\":1.95,\"3.06\":2.03,\".28\":0.24,\"2.29\":1.46,\"5.64\":4.6,\"1.04\":1.19,\"3.92\":2.48,\"1065\":392},{\"1\":2,\"14.23\":11.84,\"1.71\":2.89,\"2.43\":2.23,\"15.6\":18.0,\"127\":112,\"2.8\":1.72,\"3.06\":1.32,\".28\":0.43,\"2.29\":0.95,\"5.64\":2.65,\"1.04\":0.96,\"3.92\":2.52,\"1065\":500},{\"1\":2,\"14.23\":12.33,\"1.71\":0.99,\"2.43\":1.95,\"15.6\":14.8,\"127\":136,\"2.8\":1.9,\"3.06\":1.85,\".28\":0.35,\"2.29\":2.76,\"5.64\":3.4,\"1.04\":1.06,\"3.92\":2.31,\"1065\":750},{\"1\":2,\"14.23\":12.7,\"1.71\":3.87,\"2.43\":2.4,\"15.6\":23.0,\"127\":101,\"2.8\":2.83,\"3.06\":2.55,\".28\":0.43,\"2.29\":1.95,\"5.64\":2.57,\"1.04\":1.19,\"3.92\":3.13,\"1065\":463},{\"1\":2,\"14.23\":12.0,\"1.71\":0.92,\"2.43\":2.0,\"15.6\":19.0,\"127\":86,\"2.8\":2.42,\"3.06\":2.26,\".28\":0.3,\"2.29\":1.43,\"5.64\":2.5,\"1.04\":1.38,\"3.92\":3.12,\"1065\":278},{\"1\":2,\"14.23\":12.72,\"1.71\":1.81,\"2.43\":2.2,\"15.6\":18.8,\"127\":86,\"2.8\":2.2,\"3.06\":2.53,\".28\":0.26,\"2.29\":1.77,\"5.64\":3.9,\"1.04\":1.16,\"3.92\":3.14,\"1065\":714},{\"1\":2,\"14.23\":12.08,\"1.71\":1.13,\"2.43\":2.51,\"15.6\":24.0,\"127\":78,\"2.8\":2.0,\"3.06\":1.58,\".28\":0.4,\"2.29\":1.4,\"5.64\":2.2,\"1.04\":1.31,\"3.92\":2.72,\"1065\":630},{\"1\":2,\"14.23\":13.05,\"1.71\":3.86,\"2.43\":2.32,\"15.6\":22.5,\"127\":85,\"2.8\":1.65,\"3.06\":1.59,\".28\":0.61,\"2.29\":1.62,\"5.64\":4.8,\"1.04\":0.84,\"3.92\":2.01,\"1065\":515},{\"1\":2,\"14.23\":11.84,\"1.71\":0.89,\"2.43\":2.58,\"15.6\":18.0,\"127\":94,\"2.8\":2.2,\"3.06\":2.21,\".28\":0.22,\"2.29\":2.35,\"5.64\":3.05,\"1.04\":0.79,\"3.92\":3.08,\"1065\":520},{\"1\":2,\"14.23\":12.67,\"1.71\":0.98,\"2.43\":2.24,\"15.6\":18.0,\"127\":99,\"2.8\":2.2,\"3.06\":1.94,\".28\":0.3,\"2.29\":1.46,\"5.64\":2.62,\"1.04\":1.23,\"3.92\":3.16,\"1065\":450},{\"1\":2,\"14.23\":12.16,\"1.71\":1.61,\"2.43\":2.31,\"15.6\":22.8,\"127\":90,\"2.8\":1.78,\"3.06\":1.69,\".28\":0.43,\"2.29\":1.56,\"5.64\":2.45,\"1.04\":1.33,\"3.92\":2.26,\"1065\":495},{\"1\":2,\"14.23\":11.65,\"1.71\":1.67,\"2.43\":2.62,\"15.6\":26.0,\"127\":88,\"2.8\":1.92,\"3.06\":1.61,\".28\":0.4,\"2.29\":1.34,\"5.64\":2.6,\"1.04\":1.36,\"3.92\":3.21,\"1065\":562},{\"1\":2,\"14.23\":11.64,\"1.71\":2.06,\"2.43\":2.46,\"15.6\":21.6,\"127\":84,\"2.8\":1.95,\"3.06\":1.69,\".28\":0.48,\"2.29\":1.35,\"5.64\":2.8,\"1.04\":1.0,\"3.92\":2.75,\"1065\":680},{\"1\":2,\"14.23\":12.08,\"1.71\":1.33,\"2.43\":2.3,\"15.6\":23.6,\"127\":70,\"2.8\":2.2,\"3.06\":1.59,\".28\":0.42,\"2.29\":1.38,\"5.64\":1.74,\"1.04\":1.07,\"3.92\":3.21,\"1065\":625},{\"1\":2,\"14.23\":12.08,\"1.71\":1.83,\"2.43\":2.32,\"15.6\":18.5,\"127\":81,\"2.8\":1.6,\"3.06\":1.5,\".28\":0.52,\"2.29\":1.64,\"5.64\":2.4,\"1.04\":1.08,\"3.92\":2.27,\"1065\":480},{\"1\":2,\"14.23\":12.0,\"1.71\":1.51,\"2.43\":2.42,\"15.6\":22.0,\"127\":86,\"2.8\":1.45,\"3.06\":1.25,\".28\":0.5,\"2.29\":1.63,\"5.64\":3.6,\"1.04\":1.05,\"3.92\":2.65,\"1065\":450},{\"1\":2,\"14.23\":12.69,\"1.71\":1.53,\"2.43\":2.26,\"15.6\":20.7,\"127\":80,\"2.8\":1.38,\"3.06\":1.46,\".28\":0.58,\"2.29\":1.62,\"5.64\":3.05,\"1.04\":0.96,\"3.92\":2.06,\"1065\":495},{\"1\":2,\"14.23\":12.29,\"1.71\":2.83,\"2.43\":2.22,\"15.6\":18.0,\"127\":88,\"2.8\":2.45,\"3.06\":2.25,\".28\":0.25,\"2.29\":1.99,\"5.64\":2.15,\"1.04\":1.15,\"3.92\":3.3,\"1065\":290},{\"1\":2,\"14.23\":11.62,\"1.71\":1.99,\"2.43\":2.28,\"15.6\":18.0,\"127\":98,\"2.8\":3.02,\"3.06\":2.26,\".28\":0.17,\"2.29\":1.35,\"5.64\":3.25,\"1.04\":1.16,\"3.92\":2.96,\"1065\":345},{\"1\":2,\"14.23\":12.47,\"1.71\":1.52,\"2.43\":2.2,\"15.6\":19.0,\"127\":162,\"2.8\":2.5,\"3.06\":2.27,\".28\":0.32,\"2.29\":3.28,\"5.64\":2.6,\"1.04\":1.16,\"3.92\":2.63,\"1065\":937},{\"1\":2,\"14.23\":11.81,\"1.71\":2.12,\"2.43\":2.74,\"15.6\":21.5,\"127\":134,\"2.8\":1.6,\"3.06\":0.99,\".28\":0.14,\"2.29\":1.56,\"5.64\":2.5,\"1.04\":0.95,\"3.92\":2.26,\"1065\":625},{\"1\":2,\"14.23\":12.29,\"1.71\":1.41,\"2.43\":1.98,\"15.6\":16.0,\"127\":85,\"2.8\":2.55,\"3.06\":2.5,\".28\":0.29,\"2.29\":1.77,\"5.64\":2.9,\"1.04\":1.23,\"3.92\":2.74,\"1065\":428},{\"1\":2,\"14.23\":12.37,\"1.71\":1.07,\"2.43\":2.1,\"15.6\":18.5,\"127\":88,\"2.8\":3.52,\"3.06\":3.75,\".28\":0.24,\"2.29\":1.95,\"5.64\":4.5,\"1.04\":1.04,\"3.92\":2.77,\"1065\":660},{\"1\":2,\"14.23\":12.29,\"1.71\":3.17,\"2.43\":2.21,\"15.6\":18.0,\"127\":88,\"2.8\":2.85,\"3.06\":2.99,\".28\":0.45,\"2.29\":2.81,\"5.64\":2.3,\"1.04\":1.42,\"3.92\":2.83,\"1065\":406},{\"1\":2,\"14.23\":12.08,\"1.71\":2.08,\"2.43\":1.7,\"15.6\":17.5,\"127\":97,\"2.8\":2.23,\"3.06\":2.17,\".28\":0.26,\"2.29\":1.4,\"5.64\":3.3,\"1.04\":1.27,\"3.92\":2.96,\"1065\":710},{\"1\":2,\"14.23\":12.6,\"1.71\":1.34,\"2.43\":1.9,\"15.6\":18.5,\"127\":88,\"2.8\":1.45,\"3.06\":1.36,\".28\":0.29,\"2.29\":1.35,\"5.64\":2.45,\"1.04\":1.04,\"3.92\":2.77,\"1065\":562},{\"1\":2,\"14.23\":12.34,\"1.71\":2.45,\"2.43\":2.46,\"15.6\":21.0,\"127\":98,\"2.8\":2.56,\"3.06\":2.11,\".28\":0.34,\"2.29\":1.31,\"5.64\":2.8,\"1.04\":0.8,\"3.92\":3.38,\"1065\":438},{\"1\":2,\"14.23\":11.82,\"1.71\":1.72,\"2.43\":1.88,\"15.6\":19.5,\"127\":86,\"2.8\":2.5,\"3.06\":1.64,\".28\":0.37,\"2.29\":1.42,\"5.64\":2.06,\"1.04\":0.94,\"3.92\":2.44,\"1065\":415},{\"1\":2,\"14.23\":12.51,\"1.71\":1.73,\"2.43\":1.98,\"15.6\":20.5,\"127\":85,\"2.8\":2.2,\"3.06\":1.92,\".28\":0.32,\"2.29\":1.48,\"5.64\":2.94,\"1.04\":1.04,\"3.92\":3.57,\"1065\":672},{\"1\":2,\"14.23\":12.42,\"1.71\":2.55,\"2.43\":2.27,\"15.6\":22.0,\"127\":90,\"2.8\":1.68,\"3.06\":1.84,\".28\":0.66,\"2.29\":1.42,\"5.64\":2.7,\"1.04\":0.86,\"3.92\":3.3,\"1065\":315},{\"1\":2,\"14.23\":12.25,\"1.71\":1.73,\"2.43\":2.12,\"15.6\":19.0,\"127\":80,\"2.8\":1.65,\"3.06\":2.03,\".28\":0.37,\"2.29\":1.63,\"5.64\":3.4,\"1.04\":1.0,\"3.92\":3.17,\"1065\":510},{\"1\":2,\"14.23\":12.72,\"1.71\":1.75,\"2.43\":2.28,\"15.6\":22.5,\"127\":84,\"2.8\":1.38,\"3.06\":1.76,\".28\":0.48,\"2.29\":1.63,\"5.64\":3.3,\"1.04\":0.88,\"3.92\":2.42,\"1065\":488},{\"1\":2,\"14.23\":12.22,\"1.71\":1.29,\"2.43\":1.94,\"15.6\":19.0,\"127\":92,\"2.8\":2.36,\"3.06\":2.04,\".28\":0.39,\"2.29\":2.08,\"5.64\":2.7,\"1.04\":0.86,\"3.92\":3.02,\"1065\":312},{\"1\":2,\"14.23\":11.61,\"1.71\":1.35,\"2.43\":2.7,\"15.6\":20.0,\"127\":94,\"2.8\":2.74,\"3.06\":2.92,\".28\":0.29,\"2.29\":2.49,\"5.64\":2.65,\"1.04\":0.96,\"3.92\":3.26,\"1065\":680},{\"1\":2,\"14.23\":11.46,\"1.71\":3.74,\"2.43\":1.82,\"15.6\":19.5,\"127\":107,\"2.8\":3.18,\"3.06\":2.58,\".28\":0.24,\"2.29\":3.58,\"5.64\":2.9,\"1.04\":0.75,\"3.92\":2.81,\"1065\":562},{\"1\":2,\"14.23\":12.52,\"1.71\":2.43,\"2.43\":2.17,\"15.6\":21.0,\"127\":88,\"2.8\":2.55,\"3.06\":2.27,\".28\":0.26,\"2.29\":1.22,\"5.64\":2.0,\"1.04\":0.9,\"3.92\":2.78,\"1065\":325},{\"1\":2,\"14.23\":11.76,\"1.71\":2.68,\"2.43\":2.92,\"15.6\":20.0,\"127\":103,\"2.8\":1.75,\"3.06\":2.03,\".28\":0.6,\"2.29\":1.05,\"5.64\":3.8,\"1.04\":1.23,\"3.92\":2.5,\"1065\":607},{\"1\":2,\"14.23\":11.41,\"1.71\":0.74,\"2.43\":2.5,\"15.6\":21.0,\"127\":88,\"2.8\":2.48,\"3.06\":2.01,\".28\":0.42,\"2.29\":1.44,\"5.64\":3.08,\"1.04\":1.1,\"3.92\":2.31,\"1065\":434},{\"1\":2,\"14.23\":12.08,\"1.71\":1.39,\"2.43\":2.5,\"15.6\":22.5,\"127\":84,\"2.8\":2.56,\"3.06\":2.29,\".28\":0.43,\"2.29\":1.04,\"5.64\":2.9,\"1.04\":0.93,\"3.92\":3.19,\"1065\":385},{\"1\":2,\"14.23\":11.03,\"1.71\":1.51,\"2.43\":2.2,\"15.6\":21.5,\"127\":85,\"2.8\":2.46,\"3.06\":2.17,\".28\":0.52,\"2.29\":2.01,\"5.64\":1.9,\"1.04\":1.71,\"3.92\":2.87,\"1065\":407},{\"1\":2,\"14.23\":11.82,\"1.71\":1.47,\"2.43\":1.99,\"15.6\":20.8,\"127\":86,\"2.8\":1.98,\"3.06\":1.6,\".28\":0.3,\"2.29\":1.53,\"5.64\":1.95,\"1.04\":0.95,\"3.92\":3.33,\"1065\":495},{\"1\":2,\"14.23\":12.42,\"1.71\":1.61,\"2.43\":2.19,\"15.6\":22.5,\"127\":108,\"2.8\":2.0,\"3.06\":2.09,\".28\":0.34,\"2.29\":1.61,\"5.64\":2.06,\"1.04\":1.06,\"3.92\":2.96,\"1065\":345},{\"1\":2,\"14.23\":12.77,\"1.71\":3.43,\"2.43\":1.98,\"15.6\":16.0,\"127\":80,\"2.8\":1.63,\"3.06\":1.25,\".28\":0.43,\"2.29\":0.83,\"5.64\":3.4,\"1.04\":0.7,\"3.92\":2.12,\"1065\":372},{\"1\":2,\"14.23\":12.0,\"1.71\":3.43,\"2.43\":2.0,\"15.6\":19.0,\"127\":87,\"2.8\":2.0,\"3.06\":1.64,\".28\":0.37,\"2.29\":1.87,\"5.64\":1.28,\"1.04\":0.93,\"3.92\":3.05,\"1065\":564},{\"1\":2,\"14.23\":11.45,\"1.71\":2.4,\"2.43\":2.42,\"15.6\":20.0,\"127\":96,\"2.8\":2.9,\"3.06\":2.79,\".28\":0.32,\"2.29\":1.83,\"5.64\":3.25,\"1.04\":0.8,\"3.92\":3.39,\"1065\":625},{\"1\":2,\"14.23\":11.56,\"1.71\":2.05,\"2.43\":3.23,\"15.6\":28.5,\"127\":119,\"2.8\":3.18,\"3.06\":5.08,\".28\":0.47,\"2.29\":1.87,\"5.64\":6.0,\"1.04\":0.93,\"3.92\":3.69,\"1065\":465},{\"1\":2,\"14.23\":12.42,\"1.71\":4.43,\"2.43\":2.73,\"15.6\":26.5,\"127\":102,\"2.8\":2.2,\"3.06\":2.13,\".28\":0.43,\"2.29\":1.71,\"5.64\":2.08,\"1.04\":0.92,\"3.92\":3.12,\"1065\":365},{\"1\":2,\"14.23\":13.05,\"1.71\":5.8,\"2.43\":2.13,\"15.6\":21.5,\"127\":86,\"2.8\":2.62,\"3.06\":2.65,\".28\":0.3,\"2.29\":2.01,\"5.64\":2.6,\"1.04\":0.73,\"3.92\":3.1,\"1065\":380},{\"1\":2,\"14.23\":11.87,\"1.71\":4.31,\"2.43\":2.39,\"15.6\":21.0,\"127\":82,\"2.8\":2.86,\"3.06\":3.03,\".28\":0.21,\"2.29\":2.91,\"5.64\":2.8,\"1.04\":0.75,\"3.92\":3.64,\"1065\":380},{\"1\":2,\"14.23\":12.07,\"1.71\":2.16,\"2.43\":2.17,\"15.6\":21.0,\"127\":85,\"2.8\":2.6,\"3.06\":2.65,\".28\":0.37,\"2.29\":1.35,\"5.64\":2.76,\"1.04\":0.86,\"3.92\":3.28,\"1065\":378},{\"1\":2,\"14.23\":12.43,\"1.71\":1.53,\"2.43\":2.29,\"15.6\":21.5,\"127\":86,\"2.8\":2.74,\"3.06\":3.15,\".28\":0.39,\"2.29\":1.77,\"5.64\":3.94,\"1.04\":0.69,\"3.92\":2.84,\"1065\":352},{\"1\":2,\"14.23\":11.79,\"1.71\":2.13,\"2.43\":2.78,\"15.6\":28.5,\"127\":92,\"2.8\":2.13,\"3.06\":2.24,\".28\":0.58,\"2.29\":1.76,\"5.64\":3.0,\"1.04\":0.97,\"3.92\":2.44,\"1065\":466},{\"1\":2,\"14.23\":12.37,\"1.71\":1.63,\"2.43\":2.3,\"15.6\":24.5,\"127\":88,\"2.8\":2.22,\"3.06\":2.45,\".28\":0.4,\"2.29\":1.9,\"5.64\":2.12,\"1.04\":0.89,\"3.92\":2.78,\"1065\":342},{\"1\":2,\"14.23\":12.04,\"1.71\":4.3,\"2.43\":2.38,\"15.6\":22.0,\"127\":80,\"2.8\":2.1,\"3.06\":1.75,\".28\":0.42,\"2.29\":1.35,\"5.64\":2.6,\"1.04\":0.79,\"3.92\":2.57,\"1065\":580},{\"1\":3,\"14.23\":12.86,\"1.71\":1.35,\"2.43\":2.32,\"15.6\":18.0,\"127\":122,\"2.8\":1.51,\"3.06\":1.25,\".28\":0.21,\"2.29\":0.94,\"5.64\":4.1,\"1.04\":0.76,\"3.92\":1.29,\"1065\":630},{\"1\":3,\"14.23\":12.88,\"1.71\":2.99,\"2.43\":2.4,\"15.6\":20.0,\"127\":104,\"2.8\":1.3,\"3.06\":1.22,\".28\":0.24,\"2.29\":0.83,\"5.64\":5.4,\"1.04\":0.74,\"3.92\":1.42,\"1065\":530},{\"1\":3,\"14.23\":12.81,\"1.71\":2.31,\"2.43\":2.4,\"15.6\":24.0,\"127\":98,\"2.8\":1.15,\"3.06\":1.09,\".28\":0.27,\"2.29\":0.83,\"5.64\":5.7,\"1.04\":0.66,\"3.92\":1.36,\"1065\":560},{\"1\":3,\"14.23\":12.7,\"1.71\":3.55,\"2.43\":2.36,\"15.6\":21.5,\"127\":106,\"2.8\":1.7,\"3.06\":1.2,\".28\":0.17,\"2.29\":0.84,\"5.64\":5.0,\"1.04\":0.78,\"3.92\":1.29,\"1065\":600},{\"1\":3,\"14.23\":12.51,\"1.71\":1.24,\"2.43\":2.25,\"15.6\":17.5,\"127\":85,\"2.8\":2.0,\"3.06\":0.58,\".28\":0.6,\"2.29\":1.25,\"5.64\":5.45,\"1.04\":0.75,\"3.92\":1.51,\"1065\":650},{\"1\":3,\"14.23\":12.6,\"1.71\":2.46,\"2.43\":2.2,\"15.6\":18.5,\"127\":94,\"2.8\":1.62,\"3.06\":0.66,\".28\":0.63,\"2.29\":0.94,\"5.64\":7.1,\"1.04\":0.73,\"3.92\":1.58,\"1065\":695},{\"1\":3,\"14.23\":12.25,\"1.71\":4.72,\"2.43\":2.54,\"15.6\":21.0,\"127\":89,\"2.8\":1.38,\"3.06\":0.47,\".28\":0.53,\"2.29\":0.8,\"5.64\":3.85,\"1.04\":0.75,\"3.92\":1.27,\"1065\":720},{\"1\":3,\"14.23\":12.53,\"1.71\":5.51,\"2.43\":2.64,\"15.6\":25.0,\"127\":96,\"2.8\":1.79,\"3.06\":0.6,\".28\":0.63,\"2.29\":1.1,\"5.64\":5.0,\"1.04\":0.82,\"3.92\":1.69,\"1065\":515},{\"1\":3,\"14.23\":13.49,\"1.71\":3.59,\"2.43\":2.19,\"15.6\":19.5,\"127\":88,\"2.8\":1.62,\"3.06\":0.48,\".28\":0.58,\"2.29\":0.88,\"5.64\":5.7,\"1.04\":0.81,\"3.92\":1.82,\"1065\":580},{\"1\":3,\"14.23\":12.84,\"1.71\":2.96,\"2.43\":2.61,\"15.6\":24.0,\"127\":101,\"2.8\":2.32,\"3.06\":0.6,\".28\":0.53,\"2.29\":0.81,\"5.64\":4.92,\"1.04\":0.89,\"3.92\":2.15,\"1065\":590},{\"1\":3,\"14.23\":12.93,\"1.71\":2.81,\"2.43\":2.7,\"15.6\":21.0,\"127\":96,\"2.8\":1.54,\"3.06\":0.5,\".28\":0.53,\"2.29\":0.75,\"5.64\":4.6,\"1.04\":0.77,\"3.92\":2.31,\"1065\":600},{\"1\":3,\"14.23\":13.36,\"1.71\":2.56,\"2.43\":2.35,\"15.6\":20.0,\"127\":89,\"2.8\":1.4,\"3.06\":0.5,\".28\":0.37,\"2.29\":0.64,\"5.64\":5.6,\"1.04\":0.7,\"3.92\":2.47,\"1065\":780},{\"1\":3,\"14.23\":13.52,\"1.71\":3.17,\"2.43\":2.72,\"15.6\":23.5,\"127\":97,\"2.8\":1.55,\"3.06\":0.52,\".28\":0.5,\"2.29\":0.55,\"5.64\":4.35,\"1.04\":0.89,\"3.92\":2.06,\"1065\":520},{\"1\":3,\"14.23\":13.62,\"1.71\":4.95,\"2.43\":2.35,\"15.6\":20.0,\"127\":92,\"2.8\":2.0,\"3.06\":0.8,\".28\":0.47,\"2.29\":1.02,\"5.64\":4.4,\"1.04\":0.91,\"3.92\":2.05,\"1065\":550},{\"1\":3,\"14.23\":12.25,\"1.71\":3.88,\"2.43\":2.2,\"15.6\":18.5,\"127\":112,\"2.8\":1.38,\"3.06\":0.78,\".28\":0.29,\"2.29\":1.14,\"5.64\":8.21,\"1.04\":0.65,\"3.92\":2.0,\"1065\":855},{\"1\":3,\"14.23\":13.16,\"1.71\":3.57,\"2.43\":2.15,\"15.6\":21.0,\"127\":102,\"2.8\":1.5,\"3.06\":0.55,\".28\":0.43,\"2.29\":1.3,\"5.64\":4.0,\"1.04\":0.6,\"3.92\":1.68,\"1065\":830},{\"1\":3,\"14.23\":13.88,\"1.71\":5.04,\"2.43\":2.23,\"15.6\":20.0,\"127\":80,\"2.8\":0.98,\"3.06\":0.34,\".28\":0.4,\"2.29\":0.68,\"5.64\":4.9,\"1.04\":0.58,\"3.92\":1.33,\"1065\":415},{\"1\":3,\"14.23\":12.87,\"1.71\":4.61,\"2.43\":2.48,\"15.6\":21.5,\"127\":86,\"2.8\":1.7,\"3.06\":0.65,\".28\":0.47,\"2.29\":0.86,\"5.64\":7.65,\"1.04\":0.54,\"3.92\":1.86,\"1065\":625},{\"1\":3,\"14.23\":13.32,\"1.71\":3.24,\"2.43\":2.38,\"15.6\":21.5,\"127\":92,\"2.8\":1.93,\"3.06\":0.76,\".28\":0.45,\"2.29\":1.25,\"5.64\":8.42,\"1.04\":0.55,\"3.92\":1.62,\"1065\":650},{\"1\":3,\"14.23\":13.08,\"1.71\":3.9,\"2.43\":2.36,\"15.6\":21.5,\"127\":113,\"2.8\":1.41,\"3.06\":1.39,\".28\":0.34,\"2.29\":1.14,\"5.64\":9.4,\"1.04\":0.57,\"3.92\":1.33,\"1065\":550},{\"1\":3,\"14.23\":13.5,\"1.71\":3.12,\"2.43\":2.62,\"15.6\":24.0,\"127\":123,\"2.8\":1.4,\"3.06\":1.57,\".28\":0.22,\"2.29\":1.25,\"5.64\":8.6,\"1.04\":0.59,\"3.92\":1.3,\"1065\":500},{\"1\":3,\"14.23\":12.79,\"1.71\":2.67,\"2.43\":2.48,\"15.6\":22.0,\"127\":112,\"2.8\":1.48,\"3.06\":1.36,\".28\":0.24,\"2.29\":1.26,\"5.64\":10.8,\"1.04\":0.48,\"3.92\":1.47,\"1065\":480},{\"1\":3,\"14.23\":13.11,\"1.71\":1.9,\"2.43\":2.75,\"15.6\":25.5,\"127\":116,\"2.8\":2.2,\"3.06\":1.28,\".28\":0.26,\"2.29\":1.56,\"5.64\":7.1,\"1.04\":0.61,\"3.92\":1.33,\"1065\":425},{\"1\":3,\"14.23\":13.23,\"1.71\":3.3,\"2.43\":2.28,\"15.6\":18.5,\"127\":98,\"2.8\":1.8,\"3.06\":0.83,\".28\":0.61,\"2.29\":1.87,\"5.64\":10.52,\"1.04\":0.56,\"3.92\":1.51,\"1065\":675},{\"1\":3,\"14.23\":12.58,\"1.71\":1.29,\"2.43\":2.1,\"15.6\":20.0,\"127\":103,\"2.8\":1.48,\"3.06\":0.58,\".28\":0.53,\"2.29\":1.4,\"5.64\":7.6,\"1.04\":0.58,\"3.92\":1.55,\"1065\":640},{\"1\":3,\"14.23\":13.17,\"1.71\":5.19,\"2.43\":2.32,\"15.6\":22.0,\"127\":93,\"2.8\":1.74,\"3.06\":0.63,\".28\":0.61,\"2.29\":1.55,\"5.64\":7.9,\"1.04\":0.6,\"3.92\":1.48,\"1065\":725},{\"1\":3,\"14.23\":13.84,\"1.71\":4.12,\"2.43\":2.38,\"15.6\":19.5,\"127\":89,\"2.8\":1.8,\"3.06\":0.83,\".28\":0.48,\"2.29\":1.56,\"5.64\":9.01,\"1.04\":0.57,\"3.92\":1.64,\"1065\":480},{\"1\":3,\"14.23\":12.45,\"1.71\":3.03,\"2.43\":2.64,\"15.6\":27.0,\"127\":97,\"2.8\":1.9,\"3.06\":0.58,\".28\":0.63,\"2.29\":1.14,\"5.64\":7.5,\"1.04\":0.67,\"3.92\":1.73,\"1065\":880},{\"1\":3,\"14.23\":14.34,\"1.71\":1.68,\"2.43\":2.7,\"15.6\":25.0,\"127\":98,\"2.8\":2.8,\"3.06\":1.31,\".28\":0.53,\"2.29\":2.7,\"5.64\":13.0,\"1.04\":0.57,\"3.92\":1.96,\"1065\":660},{\"1\":3,\"14.23\":13.48,\"1.71\":1.67,\"2.43\":2.64,\"15.6\":22.5,\"127\":89,\"2.8\":2.6,\"3.06\":1.1,\".28\":0.52,\"2.29\":2.29,\"5.64\":11.75,\"1.04\":0.57,\"3.92\":1.78,\"1065\":620},{\"1\":3,\"14.23\":12.36,\"1.71\":3.83,\"2.43\":2.38,\"15.6\":21.0,\"127\":88,\"2.8\":2.3,\"3.06\":0.92,\".28\":0.5,\"2.29\":1.04,\"5.64\":7.65,\"1.04\":0.56,\"3.92\":1.58,\"1065\":520},{\"1\":3,\"14.23\":13.69,\"1.71\":3.26,\"2.43\":2.54,\"15.6\":20.0,\"127\":107,\"2.8\":1.83,\"3.06\":0.56,\".28\":0.5,\"2.29\":0.8,\"5.64\":5.88,\"1.04\":0.96,\"3.92\":1.82,\"1065\":680},{\"1\":3,\"14.23\":12.85,\"1.71\":3.27,\"2.43\":2.58,\"15.6\":22.0,\"127\":106,\"2.8\":1.65,\"3.06\":0.6,\".28\":0.6,\"2.29\":0.96,\"5.64\":5.58,\"1.04\":0.87,\"3.92\":2.11,\"1065\":570},{\"1\":3,\"14.23\":12.96,\"1.71\":3.45,\"2.43\":2.35,\"15.6\":18.5,\"127\":106,\"2.8\":1.39,\"3.06\":0.7,\".28\":0.4,\"2.29\":0.94,\"5.64\":5.28,\"1.04\":0.68,\"3.92\":1.75,\"1065\":675},{\"1\":3,\"14.23\":13.78,\"1.71\":2.76,\"2.43\":2.3,\"15.6\":22.0,\"127\":90,\"2.8\":1.35,\"3.06\":0.68,\".28\":0.41,\"2.29\":1.03,\"5.64\":9.58,\"1.04\":0.7,\"3.92\":1.68,\"1065\":615},{\"1\":3,\"14.23\":13.73,\"1.71\":4.36,\"2.43\":2.26,\"15.6\":22.5,\"127\":88,\"2.8\":1.28,\"3.06\":0.47,\".28\":0.52,\"2.29\":1.15,\"5.64\":6.62,\"1.04\":0.78,\"3.92\":1.75,\"1065\":520},{\"1\":3,\"14.23\":13.45,\"1.71\":3.7,\"2.43\":2.6,\"15.6\":23.0,\"127\":111,\"2.8\":1.7,\"3.06\":0.92,\".28\":0.43,\"2.29\":1.46,\"5.64\":10.68,\"1.04\":0.85,\"3.92\":1.56,\"1065\":695},{\"1\":3,\"14.23\":12.82,\"1.71\":3.37,\"2.43\":2.3,\"15.6\":19.5,\"127\":88,\"2.8\":1.48,\"3.06\":0.66,\".28\":0.4,\"2.29\":0.97,\"5.64\":10.26,\"1.04\":0.72,\"3.92\":1.75,\"1065\":685},{\"1\":3,\"14.23\":13.58,\"1.71\":2.58,\"2.43\":2.69,\"15.6\":24.5,\"127\":105,\"2.8\":1.55,\"3.06\":0.84,\".28\":0.39,\"2.29\":1.54,\"5.64\":8.66,\"1.04\":0.74,\"3.92\":1.8,\"1065\":750},{\"1\":3,\"14.23\":13.4,\"1.71\":4.6,\"2.43\":2.86,\"15.6\":25.0,\"127\":112,\"2.8\":1.98,\"3.06\":0.96,\".28\":0.27,\"2.29\":1.11,\"5.64\":8.5,\"1.04\":0.67,\"3.92\":1.92,\"1065\":630},{\"1\":3,\"14.23\":12.2,\"1.71\":3.03,\"2.43\":2.32,\"15.6\":19.0,\"127\":96,\"2.8\":1.25,\"3.06\":0.49,\".28\":0.4,\"2.29\":0.73,\"5.64\":5.5,\"1.04\":0.66,\"3.92\":1.83,\"1065\":510},{\"1\":3,\"14.23\":12.77,\"1.71\":2.39,\"2.43\":2.28,\"15.6\":19.5,\"127\":86,\"2.8\":1.39,\"3.06\":0.51,\".28\":0.48,\"2.29\":0.64,\"5.64\":9.899999,\"1.04\":0.57,\"3.92\":1.63,\"1065\":470},{\"1\":3,\"14.23\":14.16,\"1.71\":2.51,\"2.43\":2.48,\"15.6\":20.0,\"127\":91,\"2.8\":1.68,\"3.06\":0.7,\".28\":0.44,\"2.29\":1.24,\"5.64\":9.7,\"1.04\":0.62,\"3.92\":1.71,\"1065\":660},{\"1\":3,\"14.23\":13.71,\"1.71\":5.65,\"2.43\":2.45,\"15.6\":20.5,\"127\":95,\"2.8\":1.68,\"3.06\":0.61,\".28\":0.52,\"2.29\":1.06,\"5.64\":7.7,\"1.04\":0.64,\"3.92\":1.74,\"1065\":740},{\"1\":3,\"14.23\":13.4,\"1.71\":3.91,\"2.43\":2.48,\"15.6\":23.0,\"127\":102,\"2.8\":1.8,\"3.06\":0.75,\".28\":0.43,\"2.29\":1.41,\"5.64\":7.3,\"1.04\":0.7,\"3.92\":1.56,\"1065\":750},{\"1\":3,\"14.23\":13.27,\"1.71\":4.28,\"2.43\":2.26,\"15.6\":20.0,\"127\":120,\"2.8\":1.59,\"3.06\":0.69,\".28\":0.43,\"2.29\":1.35,\"5.64\":10.2,\"1.04\":0.59,\"3.92\":1.56,\"1065\":835},{\"1\":3,\"14.23\":13.17,\"1.71\":2.59,\"2.43\":2.37,\"15.6\":20.0,\"127\":120,\"2.8\":1.65,\"3.06\":0.68,\".28\":0.53,\"2.29\":1.46,\"5.64\":9.3,\"1.04\":0.6,\"3.92\":1.62,\"1065\":840},{\"1\":3,\"14.23\":14.13,\"1.71\":4.1,\"2.43\":2.74,\"15.6\":24.5,\"127\":96,\"2.8\":2.05,\"3.06\":0.76,\".28\":0.56,\"2.29\":1.35,\"5.64\":9.2,\"1.04\":0.61,\"3.92\":1.6,\"1065\":560}]'"
      ]
     },
     "execution_count": 45,
     "metadata": {},
     "output_type": "execute_result"
    }
   ],
   "source": [
    "df.to_json(orient=\"records\")"
   ]
  },
  {
   "cell_type": "markdown",
   "metadata": {},
   "source": [
    "# Reading HTML Content"
   ]
  },
  {
   "cell_type": "code",
   "execution_count": 46,
   "metadata": {},
   "outputs": [],
   "source": [
    "url = 'https://www.fdic.gov/bank/individual/failed/banklist.html'\n",
    "dfs = pd.read_html(url)"
   ]
  },
  {
   "cell_type": "code",
   "execution_count": 48,
   "metadata": {
    "scrolled": true
   },
   "outputs": [
    {
     "data": {
      "text/html": [
       "<div>\n",
       "<style scoped>\n",
       "    .dataframe tbody tr th:only-of-type {\n",
       "        vertical-align: middle;\n",
       "    }\n",
       "\n",
       "    .dataframe tbody tr th {\n",
       "        vertical-align: top;\n",
       "    }\n",
       "\n",
       "    .dataframe thead th {\n",
       "        text-align: right;\n",
       "    }\n",
       "</style>\n",
       "<table border=\"1\" class=\"dataframe\">\n",
       "  <thead>\n",
       "    <tr style=\"text-align: right;\">\n",
       "      <th></th>\n",
       "      <th>Bank Name</th>\n",
       "      <th>City</th>\n",
       "      <th>ST</th>\n",
       "      <th>CERT</th>\n",
       "      <th>Acquiring Institution</th>\n",
       "      <th>Closing Date</th>\n",
       "    </tr>\n",
       "  </thead>\n",
       "  <tbody>\n",
       "    <tr>\n",
       "      <td>0</td>\n",
       "      <td>Ericson State Bank</td>\n",
       "      <td>Ericson</td>\n",
       "      <td>NE</td>\n",
       "      <td>18265</td>\n",
       "      <td>Farmers and Merchants Bank</td>\n",
       "      <td>February 14, 2020</td>\n",
       "    </tr>\n",
       "    <tr>\n",
       "      <td>1</td>\n",
       "      <td>City National Bank of New Jersey</td>\n",
       "      <td>Newark</td>\n",
       "      <td>NJ</td>\n",
       "      <td>21111</td>\n",
       "      <td>Industrial Bank</td>\n",
       "      <td>November 1, 2019</td>\n",
       "    </tr>\n",
       "    <tr>\n",
       "      <td>2</td>\n",
       "      <td>Resolute Bank</td>\n",
       "      <td>Maumee</td>\n",
       "      <td>OH</td>\n",
       "      <td>58317</td>\n",
       "      <td>Buckeye State Bank</td>\n",
       "      <td>October 25, 2019</td>\n",
       "    </tr>\n",
       "    <tr>\n",
       "      <td>3</td>\n",
       "      <td>Louisa Community Bank</td>\n",
       "      <td>Louisa</td>\n",
       "      <td>KY</td>\n",
       "      <td>58112</td>\n",
       "      <td>Kentucky Farmers Bank Corporation</td>\n",
       "      <td>October 25, 2019</td>\n",
       "    </tr>\n",
       "    <tr>\n",
       "      <td>4</td>\n",
       "      <td>The Enloe State Bank</td>\n",
       "      <td>Cooper</td>\n",
       "      <td>TX</td>\n",
       "      <td>10716</td>\n",
       "      <td>Legend Bank, N. A.</td>\n",
       "      <td>May 31, 2019</td>\n",
       "    </tr>\n",
       "    <tr>\n",
       "      <td>...</td>\n",
       "      <td>...</td>\n",
       "      <td>...</td>\n",
       "      <td>...</td>\n",
       "      <td>...</td>\n",
       "      <td>...</td>\n",
       "      <td>...</td>\n",
       "    </tr>\n",
       "    <tr>\n",
       "      <td>555</td>\n",
       "      <td>Superior Bank, FSB</td>\n",
       "      <td>Hinsdale</td>\n",
       "      <td>IL</td>\n",
       "      <td>32646</td>\n",
       "      <td>Superior Federal, FSB</td>\n",
       "      <td>July 27, 2001</td>\n",
       "    </tr>\n",
       "    <tr>\n",
       "      <td>556</td>\n",
       "      <td>Malta National Bank</td>\n",
       "      <td>Malta</td>\n",
       "      <td>OH</td>\n",
       "      <td>6629</td>\n",
       "      <td>North Valley Bank</td>\n",
       "      <td>May 3, 2001</td>\n",
       "    </tr>\n",
       "    <tr>\n",
       "      <td>557</td>\n",
       "      <td>First Alliance Bank &amp; Trust Co.</td>\n",
       "      <td>Manchester</td>\n",
       "      <td>NH</td>\n",
       "      <td>34264</td>\n",
       "      <td>Southern New Hampshire Bank &amp; Trust</td>\n",
       "      <td>February 2, 2001</td>\n",
       "    </tr>\n",
       "    <tr>\n",
       "      <td>558</td>\n",
       "      <td>National State Bank of Metropolis</td>\n",
       "      <td>Metropolis</td>\n",
       "      <td>IL</td>\n",
       "      <td>3815</td>\n",
       "      <td>Banterra Bank of Marion</td>\n",
       "      <td>December 14, 2000</td>\n",
       "    </tr>\n",
       "    <tr>\n",
       "      <td>559</td>\n",
       "      <td>Bank of Honolulu</td>\n",
       "      <td>Honolulu</td>\n",
       "      <td>HI</td>\n",
       "      <td>21029</td>\n",
       "      <td>Bank of the Orient</td>\n",
       "      <td>October 13, 2000</td>\n",
       "    </tr>\n",
       "  </tbody>\n",
       "</table>\n",
       "<p>560 rows × 6 columns</p>\n",
       "</div>"
      ],
      "text/plain": [
       "                             Bank Name        City  ST   CERT  \\\n",
       "0                   Ericson State Bank     Ericson  NE  18265   \n",
       "1     City National Bank of New Jersey      Newark  NJ  21111   \n",
       "2                        Resolute Bank      Maumee  OH  58317   \n",
       "3                Louisa Community Bank      Louisa  KY  58112   \n",
       "4                 The Enloe State Bank      Cooper  TX  10716   \n",
       "..                                 ...         ...  ..    ...   \n",
       "555                 Superior Bank, FSB    Hinsdale  IL  32646   \n",
       "556                Malta National Bank       Malta  OH   6629   \n",
       "557    First Alliance Bank & Trust Co.  Manchester  NH  34264   \n",
       "558  National State Bank of Metropolis  Metropolis  IL   3815   \n",
       "559                   Bank of Honolulu    Honolulu  HI  21029   \n",
       "\n",
       "                   Acquiring Institution       Closing Date  \n",
       "0             Farmers and Merchants Bank  February 14, 2020  \n",
       "1                        Industrial Bank   November 1, 2019  \n",
       "2                     Buckeye State Bank   October 25, 2019  \n",
       "3      Kentucky Farmers Bank Corporation   October 25, 2019  \n",
       "4                     Legend Bank, N. A.       May 31, 2019  \n",
       "..                                   ...                ...  \n",
       "555                Superior Federal, FSB      July 27, 2001  \n",
       "556                    North Valley Bank        May 3, 2001  \n",
       "557  Southern New Hampshire Bank & Trust   February 2, 2001  \n",
       "558              Banterra Bank of Marion  December 14, 2000  \n",
       "559                   Bank of the Orient   October 13, 2000  \n",
       "\n",
       "[560 rows x 6 columns]"
      ]
     },
     "execution_count": 48,
     "metadata": {},
     "output_type": "execute_result"
    }
   ],
   "source": [
    "dfs[0]"
   ]
  },
  {
   "cell_type": "code",
   "execution_count": 51,
   "metadata": {},
   "outputs": [],
   "source": [
    "url_wiki = 'https://en.wikipedia.org/wiki/Mobile_country_code'\n",
    "dfs = pd.read_html(url_wiki, match = 'Mobile Network Codes', header = 0)"
   ]
  },
  {
   "cell_type": "code",
   "execution_count": 52,
   "metadata": {},
   "outputs": [
    {
     "data": {
      "text/html": [
       "<div>\n",
       "<style scoped>\n",
       "    .dataframe tbody tr th:only-of-type {\n",
       "        vertical-align: middle;\n",
       "    }\n",
       "\n",
       "    .dataframe tbody tr th {\n",
       "        vertical-align: top;\n",
       "    }\n",
       "\n",
       "    .dataframe thead th {\n",
       "        text-align: right;\n",
       "    }\n",
       "</style>\n",
       "<table border=\"1\" class=\"dataframe\">\n",
       "  <thead>\n",
       "    <tr style=\"text-align: right;\">\n",
       "      <th></th>\n",
       "      <th>Mobile Country Code</th>\n",
       "      <th>Country</th>\n",
       "      <th>ISO 3166</th>\n",
       "      <th>Mobile Network Codes</th>\n",
       "      <th>Remarks</th>\n",
       "    </tr>\n",
       "  </thead>\n",
       "  <tbody>\n",
       "    <tr>\n",
       "      <td>0</td>\n",
       "      <td>289</td>\n",
       "      <td>A Abkhazia</td>\n",
       "      <td>GE-AB</td>\n",
       "      <td>List of Mobile Network Codes in Abkhasia</td>\n",
       "      <td>MCC is not listed by ITU</td>\n",
       "    </tr>\n",
       "    <tr>\n",
       "      <td>1</td>\n",
       "      <td>412</td>\n",
       "      <td>Afghanistan</td>\n",
       "      <td>AF</td>\n",
       "      <td>List of Mobile Network Codes in Afghanistan</td>\n",
       "      <td>NaN</td>\n",
       "    </tr>\n",
       "    <tr>\n",
       "      <td>2</td>\n",
       "      <td>276</td>\n",
       "      <td>Albania</td>\n",
       "      <td>AL</td>\n",
       "      <td>List of Mobile Network Codes in Albania</td>\n",
       "      <td>NaN</td>\n",
       "    </tr>\n",
       "    <tr>\n",
       "      <td>3</td>\n",
       "      <td>603</td>\n",
       "      <td>Algeria</td>\n",
       "      <td>DZ</td>\n",
       "      <td>List of Mobile Network Codes in Algeria</td>\n",
       "      <td>NaN</td>\n",
       "    </tr>\n",
       "    <tr>\n",
       "      <td>4</td>\n",
       "      <td>544</td>\n",
       "      <td>American Samoa (United States of America)</td>\n",
       "      <td>AS</td>\n",
       "      <td>List of Mobile Network Codes in American Samoa</td>\n",
       "      <td>NaN</td>\n",
       "    </tr>\n",
       "    <tr>\n",
       "      <td>...</td>\n",
       "      <td>...</td>\n",
       "      <td>...</td>\n",
       "      <td>...</td>\n",
       "      <td>...</td>\n",
       "      <td>...</td>\n",
       "    </tr>\n",
       "    <tr>\n",
       "      <td>247</td>\n",
       "      <td>452</td>\n",
       "      <td>Vietnam</td>\n",
       "      <td>VN</td>\n",
       "      <td>List of Mobile Network Codes in the Vietnam</td>\n",
       "      <td>NaN</td>\n",
       "    </tr>\n",
       "    <tr>\n",
       "      <td>248</td>\n",
       "      <td>543</td>\n",
       "      <td>W Wallis and Futuna</td>\n",
       "      <td>WF</td>\n",
       "      <td>List of Mobile Network Codes in Wallis and Futuna</td>\n",
       "      <td>NaN</td>\n",
       "    </tr>\n",
       "    <tr>\n",
       "      <td>249</td>\n",
       "      <td>421</td>\n",
       "      <td>Y Yemen</td>\n",
       "      <td>YE</td>\n",
       "      <td>List of Mobile Network Codes in the Yemen</td>\n",
       "      <td>NaN</td>\n",
       "    </tr>\n",
       "    <tr>\n",
       "      <td>250</td>\n",
       "      <td>645</td>\n",
       "      <td>Z Zambia</td>\n",
       "      <td>ZM</td>\n",
       "      <td>List of Mobile Network Codes in Zambia</td>\n",
       "      <td>NaN</td>\n",
       "    </tr>\n",
       "    <tr>\n",
       "      <td>251</td>\n",
       "      <td>648</td>\n",
       "      <td>Zimbabwe</td>\n",
       "      <td>ZW</td>\n",
       "      <td>List of Mobile Network Codes in Zimbabwe</td>\n",
       "      <td>NaN</td>\n",
       "    </tr>\n",
       "  </tbody>\n",
       "</table>\n",
       "<p>252 rows × 5 columns</p>\n",
       "</div>"
      ],
      "text/plain": [
       "     Mobile Country Code                                    Country ISO 3166  \\\n",
       "0                    289                                 A Abkhazia    GE-AB   \n",
       "1                    412                                Afghanistan       AF   \n",
       "2                    276                                    Albania       AL   \n",
       "3                    603                                    Algeria       DZ   \n",
       "4                    544  American Samoa (United States of America)       AS   \n",
       "..                   ...                                        ...      ...   \n",
       "247                  452                                    Vietnam       VN   \n",
       "248                  543                        W Wallis and Futuna       WF   \n",
       "249                  421                                    Y Yemen       YE   \n",
       "250                  645                                   Z Zambia       ZM   \n",
       "251                  648                                   Zimbabwe       ZW   \n",
       "\n",
       "                                  Mobile Network Codes  \\\n",
       "0             List of Mobile Network Codes in Abkhasia   \n",
       "1          List of Mobile Network Codes in Afghanistan   \n",
       "2              List of Mobile Network Codes in Albania   \n",
       "3              List of Mobile Network Codes in Algeria   \n",
       "4       List of Mobile Network Codes in American Samoa   \n",
       "..                                                 ...   \n",
       "247        List of Mobile Network Codes in the Vietnam   \n",
       "248  List of Mobile Network Codes in Wallis and Futuna   \n",
       "249          List of Mobile Network Codes in the Yemen   \n",
       "250             List of Mobile Network Codes in Zambia   \n",
       "251           List of Mobile Network Codes in Zimbabwe   \n",
       "\n",
       "                      Remarks  \n",
       "0    MCC is not listed by ITU  \n",
       "1                         NaN  \n",
       "2                         NaN  \n",
       "3                         NaN  \n",
       "4                         NaN  \n",
       "..                        ...  \n",
       "247                       NaN  \n",
       "248                       NaN  \n",
       "249                       NaN  \n",
       "250                       NaN  \n",
       "251                       NaN  \n",
       "\n",
       "[252 rows x 5 columns]"
      ]
     },
     "execution_count": 52,
     "metadata": {},
     "output_type": "execute_result"
    }
   ],
   "source": [
    "dfs[0]"
   ]
  },
  {
   "cell_type": "markdown",
   "metadata": {},
   "source": [
    "# Reading Excel files"
   ]
  },
  {
   "cell_type": "code",
   "execution_count": 53,
   "metadata": {},
   "outputs": [
    {
     "data": {
      "text/html": [
       "<div>\n",
       "<style scoped>\n",
       "    .dataframe tbody tr th:only-of-type {\n",
       "        vertical-align: middle;\n",
       "    }\n",
       "\n",
       "    .dataframe tbody tr th {\n",
       "        vertical-align: top;\n",
       "    }\n",
       "\n",
       "    .dataframe thead th {\n",
       "        text-align: right;\n",
       "    }\n",
       "</style>\n",
       "<table border=\"1\" class=\"dataframe\">\n",
       "  <thead>\n",
       "    <tr style=\"text-align: right;\">\n",
       "      <th></th>\n",
       "      <th>Segment</th>\n",
       "      <th>Country</th>\n",
       "      <th>Product</th>\n",
       "      <th>Discount Band</th>\n",
       "      <th>Units Sold</th>\n",
       "      <th>Manufacturing Price</th>\n",
       "      <th>Sale Price</th>\n",
       "      <th>Gross Sales</th>\n",
       "      <th>Discounts</th>\n",
       "      <th>Sales</th>\n",
       "      <th>COGS</th>\n",
       "      <th>Profit</th>\n",
       "      <th>Date</th>\n",
       "      <th>Month Number</th>\n",
       "      <th>Month Name</th>\n",
       "      <th>Year</th>\n",
       "    </tr>\n",
       "  </thead>\n",
       "  <tbody>\n",
       "    <tr>\n",
       "      <td>0</td>\n",
       "      <td>Government</td>\n",
       "      <td>Canada</td>\n",
       "      <td>Carretera</td>\n",
       "      <td>None</td>\n",
       "      <td>1618.5</td>\n",
       "      <td>3</td>\n",
       "      <td>20</td>\n",
       "      <td>32370.0</td>\n",
       "      <td>0.0</td>\n",
       "      <td>32370.0</td>\n",
       "      <td>16185.0</td>\n",
       "      <td>16185.0</td>\n",
       "      <td>2014-01-01</td>\n",
       "      <td>1</td>\n",
       "      <td>January</td>\n",
       "      <td>2014</td>\n",
       "    </tr>\n",
       "    <tr>\n",
       "      <td>1</td>\n",
       "      <td>Government</td>\n",
       "      <td>Germany</td>\n",
       "      <td>Carretera</td>\n",
       "      <td>None</td>\n",
       "      <td>1321.0</td>\n",
       "      <td>3</td>\n",
       "      <td>20</td>\n",
       "      <td>26420.0</td>\n",
       "      <td>0.0</td>\n",
       "      <td>26420.0</td>\n",
       "      <td>13210.0</td>\n",
       "      <td>13210.0</td>\n",
       "      <td>2014-01-01</td>\n",
       "      <td>1</td>\n",
       "      <td>January</td>\n",
       "      <td>2014</td>\n",
       "    </tr>\n",
       "    <tr>\n",
       "      <td>2</td>\n",
       "      <td>Midmarket</td>\n",
       "      <td>France</td>\n",
       "      <td>Carretera</td>\n",
       "      <td>None</td>\n",
       "      <td>2178.0</td>\n",
       "      <td>3</td>\n",
       "      <td>15</td>\n",
       "      <td>32670.0</td>\n",
       "      <td>0.0</td>\n",
       "      <td>32670.0</td>\n",
       "      <td>21780.0</td>\n",
       "      <td>10890.0</td>\n",
       "      <td>2014-06-01</td>\n",
       "      <td>6</td>\n",
       "      <td>June</td>\n",
       "      <td>2014</td>\n",
       "    </tr>\n",
       "    <tr>\n",
       "      <td>3</td>\n",
       "      <td>Midmarket</td>\n",
       "      <td>Germany</td>\n",
       "      <td>Carretera</td>\n",
       "      <td>None</td>\n",
       "      <td>888.0</td>\n",
       "      <td>3</td>\n",
       "      <td>15</td>\n",
       "      <td>13320.0</td>\n",
       "      <td>0.0</td>\n",
       "      <td>13320.0</td>\n",
       "      <td>8880.0</td>\n",
       "      <td>4440.0</td>\n",
       "      <td>2014-06-01</td>\n",
       "      <td>6</td>\n",
       "      <td>June</td>\n",
       "      <td>2014</td>\n",
       "    </tr>\n",
       "    <tr>\n",
       "      <td>4</td>\n",
       "      <td>Midmarket</td>\n",
       "      <td>Mexico</td>\n",
       "      <td>Carretera</td>\n",
       "      <td>None</td>\n",
       "      <td>2470.0</td>\n",
       "      <td>3</td>\n",
       "      <td>15</td>\n",
       "      <td>37050.0</td>\n",
       "      <td>0.0</td>\n",
       "      <td>37050.0</td>\n",
       "      <td>24700.0</td>\n",
       "      <td>12350.0</td>\n",
       "      <td>2014-06-01</td>\n",
       "      <td>6</td>\n",
       "      <td>June</td>\n",
       "      <td>2014</td>\n",
       "    </tr>\n",
       "  </tbody>\n",
       "</table>\n",
       "</div>"
      ],
      "text/plain": [
       "      Segment  Country    Product Discount Band  Units Sold  \\\n",
       "0  Government   Canada  Carretera          None      1618.5   \n",
       "1  Government  Germany  Carretera          None      1321.0   \n",
       "2   Midmarket   France  Carretera          None      2178.0   \n",
       "3   Midmarket  Germany  Carretera          None       888.0   \n",
       "4   Midmarket   Mexico  Carretera          None      2470.0   \n",
       "\n",
       "   Manufacturing Price  Sale Price  Gross Sales  Discounts    Sales     COGS  \\\n",
       "0                    3          20      32370.0        0.0  32370.0  16185.0   \n",
       "1                    3          20      26420.0        0.0  26420.0  13210.0   \n",
       "2                    3          15      32670.0        0.0  32670.0  21780.0   \n",
       "3                    3          15      13320.0        0.0  13320.0   8880.0   \n",
       "4                    3          15      37050.0        0.0  37050.0  24700.0   \n",
       "\n",
       "    Profit       Date  Month Number Month Name  Year  \n",
       "0  16185.0 2014-01-01             1    January  2014  \n",
       "1  13210.0 2014-01-01             1    January  2014  \n",
       "2  10890.0 2014-06-01             6       June  2014  \n",
       "3   4440.0 2014-06-01             6       June  2014  \n",
       "4  12350.0 2014-06-01             6       June  2014  "
      ]
     },
     "execution_count": 53,
     "metadata": {},
     "output_type": "execute_result"
    }
   ],
   "source": [
    "df_excel = pd.read_excel('Financial Sample.xlsx')\n",
    "df_excel.head()"
   ]
  },
  {
   "cell_type": "markdown",
   "metadata": {},
   "source": [
    "# Pickling\n",
    "All pandas objects are equipped with to_pickle method which uses Python's cPickle Module to save data structure to disk using the pickle format."
   ]
  },
  {
   "cell_type": "code",
   "execution_count": 55,
   "metadata": {},
   "outputs": [],
   "source": [
    "df_excel.to_pickle('df_excel')"
   ]
  },
  {
   "cell_type": "code",
   "execution_count": null,
   "metadata": {},
   "outputs": [],
   "source": [
    "df = pd.read_pickle('df_excel')"
   ]
  },
  {
   "cell_type": "code",
   "execution_count": 56,
   "metadata": {},
   "outputs": [
    {
     "data": {
      "text/html": [
       "<div>\n",
       "<style scoped>\n",
       "    .dataframe tbody tr th:only-of-type {\n",
       "        vertical-align: middle;\n",
       "    }\n",
       "\n",
       "    .dataframe tbody tr th {\n",
       "        vertical-align: top;\n",
       "    }\n",
       "\n",
       "    .dataframe thead th {\n",
       "        text-align: right;\n",
       "    }\n",
       "</style>\n",
       "<table border=\"1\" class=\"dataframe\">\n",
       "  <thead>\n",
       "    <tr style=\"text-align: right;\">\n",
       "      <th></th>\n",
       "      <th>1</th>\n",
       "      <th>14.23</th>\n",
       "      <th>1.71</th>\n",
       "      <th>2.43</th>\n",
       "      <th>15.6</th>\n",
       "      <th>127</th>\n",
       "      <th>2.8</th>\n",
       "      <th>3.06</th>\n",
       "      <th>.28</th>\n",
       "      <th>2.29</th>\n",
       "      <th>5.64</th>\n",
       "      <th>1.04</th>\n",
       "      <th>3.92</th>\n",
       "      <th>1065</th>\n",
       "    </tr>\n",
       "  </thead>\n",
       "  <tbody>\n",
       "    <tr>\n",
       "      <td>0</td>\n",
       "      <td>1</td>\n",
       "      <td>13.20</td>\n",
       "      <td>1.78</td>\n",
       "      <td>2.14</td>\n",
       "      <td>11.2</td>\n",
       "      <td>100</td>\n",
       "      <td>2.65</td>\n",
       "      <td>2.76</td>\n",
       "      <td>0.26</td>\n",
       "      <td>1.28</td>\n",
       "      <td>4.38</td>\n",
       "      <td>1.05</td>\n",
       "      <td>3.40</td>\n",
       "      <td>1050</td>\n",
       "    </tr>\n",
       "    <tr>\n",
       "      <td>1</td>\n",
       "      <td>1</td>\n",
       "      <td>13.16</td>\n",
       "      <td>2.36</td>\n",
       "      <td>2.67</td>\n",
       "      <td>18.6</td>\n",
       "      <td>101</td>\n",
       "      <td>2.80</td>\n",
       "      <td>3.24</td>\n",
       "      <td>0.30</td>\n",
       "      <td>2.81</td>\n",
       "      <td>5.68</td>\n",
       "      <td>1.03</td>\n",
       "      <td>3.17</td>\n",
       "      <td>1185</td>\n",
       "    </tr>\n",
       "    <tr>\n",
       "      <td>2</td>\n",
       "      <td>1</td>\n",
       "      <td>14.37</td>\n",
       "      <td>1.95</td>\n",
       "      <td>2.50</td>\n",
       "      <td>16.8</td>\n",
       "      <td>113</td>\n",
       "      <td>3.85</td>\n",
       "      <td>3.49</td>\n",
       "      <td>0.24</td>\n",
       "      <td>2.18</td>\n",
       "      <td>7.80</td>\n",
       "      <td>0.86</td>\n",
       "      <td>3.45</td>\n",
       "      <td>1480</td>\n",
       "    </tr>\n",
       "    <tr>\n",
       "      <td>3</td>\n",
       "      <td>1</td>\n",
       "      <td>13.24</td>\n",
       "      <td>2.59</td>\n",
       "      <td>2.87</td>\n",
       "      <td>21.0</td>\n",
       "      <td>118</td>\n",
       "      <td>2.80</td>\n",
       "      <td>2.69</td>\n",
       "      <td>0.39</td>\n",
       "      <td>1.82</td>\n",
       "      <td>4.32</td>\n",
       "      <td>1.04</td>\n",
       "      <td>2.93</td>\n",
       "      <td>735</td>\n",
       "    </tr>\n",
       "    <tr>\n",
       "      <td>4</td>\n",
       "      <td>1</td>\n",
       "      <td>14.20</td>\n",
       "      <td>1.76</td>\n",
       "      <td>2.45</td>\n",
       "      <td>15.2</td>\n",
       "      <td>112</td>\n",
       "      <td>3.27</td>\n",
       "      <td>3.39</td>\n",
       "      <td>0.34</td>\n",
       "      <td>1.97</td>\n",
       "      <td>6.75</td>\n",
       "      <td>1.05</td>\n",
       "      <td>2.85</td>\n",
       "      <td>1450</td>\n",
       "    </tr>\n",
       "  </tbody>\n",
       "</table>\n",
       "</div>"
      ],
      "text/plain": [
       "   1  14.23  1.71  2.43  15.6  127   2.8  3.06   .28  2.29  5.64  1.04  3.92  \\\n",
       "0  1  13.20  1.78  2.14  11.2  100  2.65  2.76  0.26  1.28  4.38  1.05  3.40   \n",
       "1  1  13.16  2.36  2.67  18.6  101  2.80  3.24  0.30  2.81  5.68  1.03  3.17   \n",
       "2  1  14.37  1.95  2.50  16.8  113  3.85  3.49  0.24  2.18  7.80  0.86  3.45   \n",
       "3  1  13.24  2.59  2.87  21.0  118  2.80  2.69  0.39  1.82  4.32  1.04  2.93   \n",
       "4  1  14.20  1.76  2.45  15.2  112  3.27  3.39  0.34  1.97  6.75  1.05  2.85   \n",
       "\n",
       "   1065  \n",
       "0  1050  \n",
       "1  1185  \n",
       "2  1480  \n",
       "3   735  \n",
       "4  1450  "
      ]
     },
     "execution_count": 56,
     "metadata": {},
     "output_type": "execute_result"
    }
   ],
   "source": [
    "df.head()"
   ]
  }
 ],
 "metadata": {
  "kernelspec": {
   "display_name": "Python 3",
   "language": "python",
   "name": "python3"
  },
  "language_info": {
   "codemirror_mode": {
    "name": "ipython",
    "version": 3
   },
   "file_extension": ".py",
   "mimetype": "text/x-python",
   "name": "python",
   "nbconvert_exporter": "python",
   "pygments_lexer": "ipython3",
   "version": "3.7.4"
  }
 },
 "nbformat": 4,
 "nbformat_minor": 2
}

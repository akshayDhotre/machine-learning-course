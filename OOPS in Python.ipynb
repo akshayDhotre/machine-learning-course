{
 "cells": [
  {
   "cell_type": "markdown",
   "metadata": {},
   "source": [
    "# OOPS in Python"
   ]
  },
  {
   "cell_type": "code",
   "execution_count": 38,
   "metadata": {},
   "outputs": [],
   "source": [
    "class Mobile:\n",
    "    def __init__(self, brand, processor, screen_type):\n",
    "        self.brand_name = brand\n",
    "        self.processor_type = processor\n",
    "        self.screen_type = screen_type\n",
    "    \n",
    "    def give_info(self):\n",
    "        return \"This is {b} smartphone powered by {p} with beautiful {d} display\".format(b = self.brand_name, p = self.processor_type, d = self.screen_type)"
   ]
  },
  {
   "cell_type": "code",
   "execution_count": 39,
   "metadata": {},
   "outputs": [],
   "source": [
    "nokia = Mobile(\"Nokia\", \"SD710\", \"LCD\")"
   ]
  },
  {
   "cell_type": "code",
   "execution_count": 40,
   "metadata": {},
   "outputs": [
    {
     "name": "stdout",
     "output_type": "stream",
     "text": [
      "LCD\n"
     ]
    }
   ],
   "source": [
    "print(nokia.screen_type)"
   ]
  },
  {
   "cell_type": "code",
   "execution_count": 41,
   "metadata": {},
   "outputs": [
    {
     "data": {
      "text/plain": [
       "'This is Nokia smartphone powered by SD710 with beautiful LCD display'"
      ]
     },
     "execution_count": 41,
     "metadata": {},
     "output_type": "execute_result"
    }
   ],
   "source": [
    "nokia.give_info()"
   ]
  },
  {
   "cell_type": "code",
   "execution_count": null,
   "metadata": {},
   "outputs": [],
   "source": []
  }
 ],
 "metadata": {
  "kernelspec": {
   "display_name": "Python 3",
   "language": "python",
   "name": "python3"
  },
  "language_info": {
   "codemirror_mode": {
    "name": "ipython",
    "version": 3
   },
   "file_extension": ".py",
   "mimetype": "text/x-python",
   "name": "python",
   "nbconvert_exporter": "python",
   "pygments_lexer": "ipython3",
   "version": "3.7.4"
  }
 },
 "nbformat": 4,
 "nbformat_minor": 2
}

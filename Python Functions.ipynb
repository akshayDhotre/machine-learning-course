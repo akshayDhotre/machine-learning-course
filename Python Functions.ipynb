{
 "cells": [
  {
   "cell_type": "markdown",
   "metadata": {},
   "source": [
    "# Functions in python"
   ]
  },
  {
   "cell_type": "code",
   "execution_count": 1,
   "metadata": {},
   "outputs": [],
   "source": [
    "# \n",
    "def combine_names(name1, name2):\n",
    "    return \"Hi \" + name1 + \" \" + name2 + \".\""
   ]
  },
  {
   "cell_type": "code",
   "execution_count": 2,
   "metadata": {},
   "outputs": [
    {
     "name": "stdout",
     "output_type": "stream",
     "text": [
      "Hi akshay dhotre.\n"
     ]
    }
   ],
   "source": [
    "print(combine_names(\"akshay\", \"dhotre\"))"
   ]
  },
  {
   "cell_type": "code",
   "execution_count": 3,
   "metadata": {},
   "outputs": [],
   "source": [
    "def combine_names(name1, name2):\n",
    "    return (\"Hi {} {}, how are you?\".format(name1, name2))"
   ]
  },
  {
   "cell_type": "code",
   "execution_count": 4,
   "metadata": {},
   "outputs": [
    {
     "name": "stdout",
     "output_type": "stream",
     "text": [
      "Hi Snehal Dhotre, how are you?\n"
     ]
    }
   ],
   "source": [
    "print(combine_names(\"Snehal\", \"Dhotre\"))"
   ]
  },
  {
   "cell_type": "code",
   "execution_count": 5,
   "metadata": {},
   "outputs": [],
   "source": [
    "def combine_names_default(name1 = \"good\", name2 = \"human\"):\n",
    "    return (\"Hi {} {}, how are you?\".format(name1, name2))"
   ]
  },
  {
   "cell_type": "code",
   "execution_count": 6,
   "metadata": {},
   "outputs": [
    {
     "name": "stdout",
     "output_type": "stream",
     "text": [
      "Hi good human, how are you?\n"
     ]
    }
   ],
   "source": [
    "print(combine_names_default())"
   ]
  },
  {
   "cell_type": "code",
   "execution_count": 7,
   "metadata": {},
   "outputs": [
    {
     "name": "stdout",
     "output_type": "stream",
     "text": [
      "Hi Snehal Dhotre, how are you?\n"
     ]
    }
   ],
   "source": [
    "print(combine_names_default(\"Snehal\", \"Dhotre\"))"
   ]
  },
  {
   "cell_type": "code",
   "execution_count": 8,
   "metadata": {},
   "outputs": [],
   "source": [
    "# difference between keyword and positional arguments\n",
    "def hello(*args, **kwargs):\n",
    "    print(args)\n",
    "    print(kwargs)"
   ]
  },
  {
   "cell_type": "code",
   "execution_count": 9,
   "metadata": {},
   "outputs": [
    {
     "name": "stdout",
     "output_type": "stream",
     "text": [
      "('akshay', 'snehal')\n",
      "{'age': 29, 'dob': 1991}\n"
     ]
    }
   ],
   "source": [
    "hello(\"akshay\", \"snehal\", age = 29, dob = 1991)"
   ]
  },
  {
   "cell_type": "code",
   "execution_count": 10,
   "metadata": {},
   "outputs": [],
   "source": [
    "# difference between keyword and positional arguments\n",
    "def hello_generic(*positional_arg, **dictonary_arg):\n",
    "    print(positional_arg)\n",
    "    print(dictonary_arg)"
   ]
  },
  {
   "cell_type": "code",
   "execution_count": 11,
   "metadata": {},
   "outputs": [
    {
     "name": "stdout",
     "output_type": "stream",
     "text": [
      "()\n",
      "{}\n"
     ]
    }
   ],
   "source": [
    "hello_generic()"
   ]
  },
  {
   "cell_type": "code",
   "execution_count": 12,
   "metadata": {},
   "outputs": [],
   "source": [
    "lst_test = ('akshay', 'snehal')\n",
    "dict_test = {'age': 29, 'dob': 1991}"
   ]
  },
  {
   "cell_type": "code",
   "execution_count": 13,
   "metadata": {},
   "outputs": [
    {
     "name": "stdout",
     "output_type": "stream",
     "text": [
      "(('akshay', 'snehal'), {'age': 29, 'dob': 1991})\n",
      "{}\n"
     ]
    }
   ],
   "source": [
    "# kwargs are indicated by **, and positional by *\n",
    "hello_generic(lst_test, dict_test)"
   ]
  },
  {
   "cell_type": "code",
   "execution_count": 14,
   "metadata": {},
   "outputs": [
    {
     "name": "stdout",
     "output_type": "stream",
     "text": [
      "('akshay', 'snehal')\n",
      "{'age': 29, 'dob': 1991}\n"
     ]
    }
   ],
   "source": [
    "hello_generic(*lst_test, **dict_test)"
   ]
  },
  {
   "cell_type": "code",
   "execution_count": null,
   "metadata": {},
   "outputs": [],
   "source": []
  }
 ],
 "metadata": {
  "kernelspec": {
   "display_name": "Python 3",
   "language": "python",
   "name": "python3"
  },
  "language_info": {
   "codemirror_mode": {
    "name": "ipython",
    "version": 3
   },
   "file_extension": ".py",
   "mimetype": "text/x-python",
   "name": "python",
   "nbconvert_exporter": "python",
   "pygments_lexer": "ipython3",
   "version": "3.7.4"
  }
 },
 "nbformat": 4,
 "nbformat_minor": 2
}
